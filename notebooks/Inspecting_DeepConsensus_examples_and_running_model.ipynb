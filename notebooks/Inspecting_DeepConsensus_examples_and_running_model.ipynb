{
  "cells": [
    {
      "cell_type": "markdown",
      "metadata": {
        "id": "QPm4rl4u-kHD"
      },
      "source": [
        "# Inspecting DeepConsensus examples and running model"
      ]
    },
    {
      "cell_type": "markdown",
      "metadata": {
        "id": "UyUxIkM832Mf"
      },
      "source": [
        "## Imports\n",
        "\n"
      ]
    },
    {
      "cell_type": "markdown",
      "metadata": {
        "id": "hAGpwYlc-wSb"
      },
      "source": [
        "Run these in order. These libraries are finicky about which order they're installed and loaded in."
      ]
    },
    {
      "cell_type": "code",
      "execution_count": 1,
      "metadata": {
        "colab": {
          "base_uri": "https://localhost:8080/",
          "height": 1000
        },
        "id": "rxPOVn8fZz08",
        "outputId": "4ff28c0d-10a3-488c-9411-3631e0094ee2"
      },
      "outputs": [
        {
          "output_type": "stream",
          "name": "stdout",
          "text": [
            "Looking in indexes: https://pypi.org/simple, https://us-python.pkg.dev/colab-wheels/public/simple/\n",
            "Requirement already satisfied: pip in /usr/local/lib/python3.8/dist-packages (21.1.3)\n",
            "Collecting pip\n",
            "  Downloading pip-22.3.1-py3-none-any.whl (2.1 MB)\n",
            "\u001b[K     |████████████████████████████████| 2.1 MB 7.0 MB/s \n",
            "\u001b[?25hRequirement already satisfied: setuptools in /usr/local/lib/python3.8/dist-packages (57.4.0)\n",
            "Collecting setuptools\n",
            "  Downloading setuptools-65.6.3-py3-none-any.whl (1.2 MB)\n",
            "\u001b[K     |████████████████████████████████| 1.2 MB 64.9 MB/s \n",
            "\u001b[?25hRequirement already satisfied: wheel in /usr/local/lib/python3.8/dist-packages (0.38.4)\n",
            "Installing collected packages: setuptools, pip\n",
            "  Attempting uninstall: setuptools\n",
            "    Found existing installation: setuptools 57.4.0\n",
            "    Uninstalling setuptools-57.4.0:\n",
            "      Successfully uninstalled setuptools-57.4.0\n",
            "  Attempting uninstall: pip\n",
            "    Found existing installation: pip 21.1.3\n",
            "    Uninstalling pip-21.1.3:\n",
            "      Successfully uninstalled pip-21.1.3\n",
            "\u001b[31mERROR: pip's dependency resolver does not currently take into account all the packages that are installed. This behaviour is the source of the following dependency conflicts.\n",
            "ipython 7.9.0 requires jedi>=0.10, which is not installed.\u001b[0m\n",
            "Successfully installed pip-22.3.1 setuptools-65.6.3\n"
          ]
        },
        {
          "output_type": "display_data",
          "data": {
            "application/vnd.colab-display-data+json": {
              "pip_warning": {
                "packages": [
                  "pkg_resources"
                ]
              }
            }
          },
          "metadata": {}
        },
        {
          "output_type": "stream",
          "name": "stdout",
          "text": [
            "Looking in indexes: https://pypi.org/simple, https://us-python.pkg.dev/colab-wheels/public/simple/\n",
            "Collecting deepconsensus[cpu]==1.0.1\n",
            "  Downloading deepconsensus-1.0.1-py3-none-any.whl (154 kB)\n",
            "\u001b[2K     \u001b[90m━━━━━━━━━━━━━━━━━━━━━━━━━━━━━━━━━━━━━━━\u001b[0m \u001b[32m154.9/154.9 kB\u001b[0m \u001b[31m7.2 MB/s\u001b[0m eta \u001b[36m0:00:00\u001b[0m\n",
            "\u001b[?25hCollecting pysam==0.19.0\n",
            "  Downloading pysam-0.19.0-cp38-cp38-manylinux_2_12_x86_64.manylinux2010_x86_64.whl (16.3 MB)\n",
            "\u001b[2K     \u001b[90m━━━━━━━━━━━━━━━━━━━━━━━━━━━━━━━━━━━━━━━━\u001b[0m \u001b[32m16.3/16.3 MB\u001b[0m \u001b[31m91.6 MB/s\u001b[0m eta \u001b[36m0:00:00\u001b[0m\n",
            "\u001b[?25hCollecting pyyaml==5.4.1\n",
            "  Downloading PyYAML-5.4.1-cp38-cp38-manylinux1_x86_64.whl (662 kB)\n",
            "\u001b[2K     \u001b[90m━━━━━━━━━━━━━━━━━━━━━━━━━━━━━━━━━━━━━━\u001b[0m \u001b[32m662.4/662.4 kB\u001b[0m \u001b[31m53.6 MB/s\u001b[0m eta \u001b[36m0:00:00\u001b[0m\n",
            "\u001b[?25hCollecting pandas==1.5.1\n",
            "  Downloading pandas-1.5.1-cp38-cp38-manylinux_2_17_x86_64.manylinux2014_x86_64.whl (12.2 MB)\n",
            "\u001b[2K     \u001b[90m━━━━━━━━━━━━━━━━━━━━━━━━━━━━━━━━━━━━━━━━\u001b[0m \u001b[32m12.2/12.2 MB\u001b[0m \u001b[31m30.4 MB/s\u001b[0m eta \u001b[36m0:00:00\u001b[0m\n",
            "\u001b[?25hCollecting ml-collections==0.1.1\n",
            "  Downloading ml_collections-0.1.1.tar.gz (77 kB)\n",
            "\u001b[2K     \u001b[90m━━━━━━━━━━━━━━━━━━━━━━━━━━━━━━━━━━━━━━━━\u001b[0m \u001b[32m77.9/77.9 kB\u001b[0m \u001b[31m10.5 MB/s\u001b[0m eta \u001b[36m0:00:00\u001b[0m\n",
            "\u001b[?25h  Preparing metadata (setup.py) ... \u001b[?25l\u001b[?25hdone\n",
            "Collecting tf-models-official==2.9.2\n",
            "  Downloading tf_models_official-2.9.2-py2.py3-none-any.whl (2.1 MB)\n",
            "\u001b[2K     \u001b[90m━━━━━━━━━━━━━━━━━━━━━━━━━━━━━━━━━━━━━━━━\u001b[0m \u001b[32m2.1/2.1 MB\u001b[0m \u001b[31m91.6 MB/s\u001b[0m eta \u001b[36m0:00:00\u001b[0m\n",
            "\u001b[?25hRequirement already satisfied: keras==2.9.0 in /usr/local/lib/python3.8/dist-packages (from deepconsensus[cpu]==1.0.1) (2.9.0)\n",
            "Collecting absl-py==1.0.0\n",
            "  Downloading absl_py-1.0.0-py3-none-any.whl (126 kB)\n",
            "\u001b[2K     \u001b[90m━━━━━━━━━━━━━━━━━━━━━━━━━━━━━━━━━━━━━━\u001b[0m \u001b[32m126.7/126.7 kB\u001b[0m \u001b[31m18.0 MB/s\u001b[0m eta \u001b[36m0:00:00\u001b[0m\n",
            "\u001b[?25hCollecting intel-tensorflow==2.9.1\n",
            "  Downloading intel_tensorflow-2.9.1-cp38-cp38-manylinux_2_17_x86_64.manylinux2014_x86_64.whl (232.6 MB)\n",
            "\u001b[2K     \u001b[90m━━━━━━━━━━━━━━━━━━━━━━━━━━━━━━━━━━━━━━━\u001b[0m \u001b[32m232.6/232.6 MB\u001b[0m \u001b[31m6.3 MB/s\u001b[0m eta \u001b[36m0:00:00\u001b[0m\n",
            "\u001b[?25hRequirement already satisfied: six in /usr/local/lib/python3.8/dist-packages (from absl-py==1.0.0->deepconsensus[cpu]==1.0.1) (1.15.0)\n",
            "Requirement already satisfied: h5py>=2.9.0 in /usr/local/lib/python3.8/dist-packages (from intel-tensorflow==2.9.1->deepconsensus[cpu]==1.0.1) (3.1.0)\n",
            "Requirement already satisfied: grpcio<2.0,>=1.24.3 in /usr/local/lib/python3.8/dist-packages (from intel-tensorflow==2.9.1->deepconsensus[cpu]==1.0.1) (1.50.0)\n",
            "Requirement already satisfied: wrapt>=1.11.0 in /usr/local/lib/python3.8/dist-packages (from intel-tensorflow==2.9.1->deepconsensus[cpu]==1.0.1) (1.14.1)\n",
            "Requirement already satisfied: astunparse>=1.6.0 in /usr/local/lib/python3.8/dist-packages (from intel-tensorflow==2.9.1->deepconsensus[cpu]==1.0.1) (1.6.3)\n",
            "Requirement already satisfied: tensorflow-io-gcs-filesystem>=0.23.1 in /usr/local/lib/python3.8/dist-packages (from intel-tensorflow==2.9.1->deepconsensus[cpu]==1.0.1) (0.28.0)\n",
            "Requirement already satisfied: libclang>=13.0.0 in /usr/local/lib/python3.8/dist-packages (from intel-tensorflow==2.9.1->deepconsensus[cpu]==1.0.1) (14.0.6)\n",
            "Requirement already satisfied: tensorboard<2.10,>=2.9 in /usr/local/lib/python3.8/dist-packages (from intel-tensorflow==2.9.1->deepconsensus[cpu]==1.0.1) (2.9.1)\n",
            "Requirement already satisfied: typing-extensions>=3.6.6 in /usr/local/lib/python3.8/dist-packages (from intel-tensorflow==2.9.1->deepconsensus[cpu]==1.0.1) (4.1.1)\n",
            "Requirement already satisfied: flatbuffers<2,>=1.12 in /usr/local/lib/python3.8/dist-packages (from intel-tensorflow==2.9.1->deepconsensus[cpu]==1.0.1) (1.12)\n",
            "Requirement already satisfied: packaging in /usr/local/lib/python3.8/dist-packages (from intel-tensorflow==2.9.1->deepconsensus[cpu]==1.0.1) (21.3)\n",
            "Requirement already satisfied: numpy>=1.20 in /usr/local/lib/python3.8/dist-packages (from intel-tensorflow==2.9.1->deepconsensus[cpu]==1.0.1) (1.21.6)\n",
            "Requirement already satisfied: termcolor>=1.1.0 in /usr/local/lib/python3.8/dist-packages (from intel-tensorflow==2.9.1->deepconsensus[cpu]==1.0.1) (2.1.1)\n",
            "Requirement already satisfied: tensorflow-estimator<2.10.0,>=2.9.0rc0 in /usr/local/lib/python3.8/dist-packages (from intel-tensorflow==2.9.1->deepconsensus[cpu]==1.0.1) (2.9.0)\n",
            "Requirement already satisfied: setuptools in /usr/local/lib/python3.8/dist-packages (from intel-tensorflow==2.9.1->deepconsensus[cpu]==1.0.1) (65.6.3)\n",
            "Requirement already satisfied: protobuf<3.20,>=3.9.2 in /usr/local/lib/python3.8/dist-packages (from intel-tensorflow==2.9.1->deepconsensus[cpu]==1.0.1) (3.19.6)\n",
            "Requirement already satisfied: keras-preprocessing>=1.1.1 in /usr/local/lib/python3.8/dist-packages (from intel-tensorflow==2.9.1->deepconsensus[cpu]==1.0.1) (1.1.2)\n",
            "Requirement already satisfied: opt-einsum>=2.3.2 in /usr/local/lib/python3.8/dist-packages (from intel-tensorflow==2.9.1->deepconsensus[cpu]==1.0.1) (3.3.0)\n",
            "Requirement already satisfied: gast<=0.4.0,>=0.2.1 in /usr/local/lib/python3.8/dist-packages (from intel-tensorflow==2.9.1->deepconsensus[cpu]==1.0.1) (0.4.0)\n",
            "Requirement already satisfied: google-pasta>=0.1.1 in /usr/local/lib/python3.8/dist-packages (from intel-tensorflow==2.9.1->deepconsensus[cpu]==1.0.1) (0.2.0)\n",
            "Requirement already satisfied: contextlib2 in /usr/local/lib/python3.8/dist-packages (from ml-collections==0.1.1->deepconsensus[cpu]==1.0.1) (0.5.5)\n",
            "Requirement already satisfied: python-dateutil>=2.8.1 in /usr/local/lib/python3.8/dist-packages (from pandas==1.5.1->deepconsensus[cpu]==1.0.1) (2.8.2)\n",
            "Requirement already satisfied: pytz>=2020.1 in /usr/local/lib/python3.8/dist-packages (from pandas==1.5.1->deepconsensus[cpu]==1.0.1) (2022.6)\n",
            "Requirement already satisfied: gin-config in /usr/local/lib/python3.8/dist-packages (from tf-models-official==2.9.2->deepconsensus[cpu]==1.0.1) (0.5.0)\n",
            "Requirement already satisfied: tensorflow-hub>=0.6.0 in /usr/local/lib/python3.8/dist-packages (from tf-models-official==2.9.2->deepconsensus[cpu]==1.0.1) (0.12.0)\n",
            "Collecting tensorflow-text~=2.9.0\n",
            "  Downloading tensorflow_text-2.9.0-cp38-cp38-manylinux_2_17_x86_64.manylinux2014_x86_64.whl (4.6 MB)\n",
            "\u001b[2K     \u001b[90m━━━━━━━━━━━━━━━━━━━━━━━━━━━━━━━━━━━━━━━━\u001b[0m \u001b[32m4.6/4.6 MB\u001b[0m \u001b[31m106.9 MB/s\u001b[0m eta \u001b[36m0:00:00\u001b[0m\n",
            "\u001b[?25hCollecting py-cpuinfo>=3.3.0\n",
            "  Downloading py_cpuinfo-9.0.0-py3-none-any.whl (22 kB)\n",
            "Requirement already satisfied: google-api-python-client>=1.6.7 in /usr/local/lib/python3.8/dist-packages (from tf-models-official==2.9.2->deepconsensus[cpu]==1.0.1) (1.12.11)\n",
            "Requirement already satisfied: kaggle>=1.3.9 in /usr/local/lib/python3.8/dist-packages (from tf-models-official==2.9.2->deepconsensus[cpu]==1.0.1) (1.5.12)\n",
            "Requirement already satisfied: oauth2client in /usr/local/lib/python3.8/dist-packages (from tf-models-official==2.9.2->deepconsensus[cpu]==1.0.1) (4.1.3)\n",
            "Collecting sentencepiece\n",
            "  Downloading sentencepiece-0.1.97-cp38-cp38-manylinux_2_17_x86_64.manylinux2014_x86_64.whl (1.3 MB)\n",
            "\u001b[2K     \u001b[90m━━━━━━━━━━━━━━━━━━━━━━━━━━━━━━━━━━━━━━━━\u001b[0m \u001b[32m1.3/1.3 MB\u001b[0m \u001b[31m57.9 MB/s\u001b[0m eta \u001b[36m0:00:00\u001b[0m\n",
            "\u001b[?25hRequirement already satisfied: psutil>=5.4.3 in /usr/local/lib/python3.8/dist-packages (from tf-models-official==2.9.2->deepconsensus[cpu]==1.0.1) (5.4.8)\n",
            "Requirement already satisfied: Cython in /usr/local/lib/python3.8/dist-packages (from tf-models-official==2.9.2->deepconsensus[cpu]==1.0.1) (0.29.32)\n",
            "Collecting tensorflow-addons\n",
            "  Downloading tensorflow_addons-0.18.0-cp38-cp38-manylinux_2_17_x86_64.manylinux2014_x86_64.whl (1.1 MB)\n",
            "\u001b[2K     \u001b[90m━━━━━━━━━━━━━━━━━━━━━━━━━━━━━━━━━━━━━━━━\u001b[0m \u001b[32m1.1/1.1 MB\u001b[0m \u001b[31m47.7 MB/s\u001b[0m eta \u001b[36m0:00:00\u001b[0m\n",
            "\u001b[?25hCollecting tensorflow-model-optimization>=0.4.1\n",
            "  Downloading tensorflow_model_optimization-0.7.3-py2.py3-none-any.whl (238 kB)\n",
            "\u001b[2K     \u001b[90m━━━━━━━━━━━━━━━━━━━━━━━━━━━━━━━━━━━━━━\u001b[0m \u001b[32m238.9/238.9 kB\u001b[0m \u001b[31m32.3 MB/s\u001b[0m eta \u001b[36m0:00:00\u001b[0m\n",
            "\u001b[?25hRequirement already satisfied: tensorflow-datasets in /usr/local/lib/python3.8/dist-packages (from tf-models-official==2.9.2->deepconsensus[cpu]==1.0.1) (4.6.0)\n",
            "Collecting sacrebleu\n",
            "  Downloading sacrebleu-2.3.1-py3-none-any.whl (118 kB)\n",
            "\u001b[2K     \u001b[90m━━━━━━━━━━━━━━━━━━━━━━━━━━━━━━━━━━━━━━\u001b[0m \u001b[32m118.9/118.9 kB\u001b[0m \u001b[31m11.7 MB/s\u001b[0m eta \u001b[36m0:00:00\u001b[0m\n",
            "\u001b[?25hRequirement already satisfied: scipy>=0.19.1 in /usr/local/lib/python3.8/dist-packages (from tf-models-official==2.9.2->deepconsensus[cpu]==1.0.1) (1.7.3)\n",
            "Collecting tf-slim>=1.1.0\n",
            "  Downloading tf_slim-1.1.0-py2.py3-none-any.whl (352 kB)\n",
            "\u001b[2K     \u001b[90m━━━━━━━━━━━━━━━━━━━━━━━━━━━━━━━━━━━━━━\u001b[0m \u001b[32m352.1/352.1 kB\u001b[0m \u001b[31m21.6 MB/s\u001b[0m eta \u001b[36m0:00:00\u001b[0m\n",
            "\u001b[?25hRequirement already satisfied: tensorflow~=2.9.0 in /usr/local/lib/python3.8/dist-packages (from tf-models-official==2.9.2->deepconsensus[cpu]==1.0.1) (2.9.2)\n",
            "Collecting seqeval\n",
            "  Downloading seqeval-1.2.2.tar.gz (43 kB)\n",
            "\u001b[2K     \u001b[90m━━━━━━━━━━━━━━━━━━━━━━━━━━━━━━━━━━━━━━━━\u001b[0m \u001b[32m43.6/43.6 kB\u001b[0m \u001b[31m5.5 MB/s\u001b[0m eta \u001b[36m0:00:00\u001b[0m\n",
            "\u001b[?25h  Preparing metadata (setup.py) ... \u001b[?25l\u001b[?25hdone\n",
            "Requirement already satisfied: Pillow in /usr/local/lib/python3.8/dist-packages (from tf-models-official==2.9.2->deepconsensus[cpu]==1.0.1) (7.1.2)\n",
            "Requirement already satisfied: pycocotools in /usr/local/lib/python3.8/dist-packages (from tf-models-official==2.9.2->deepconsensus[cpu]==1.0.1) (2.0.6)\n",
            "Requirement already satisfied: opencv-python-headless in /usr/local/lib/python3.8/dist-packages (from tf-models-official==2.9.2->deepconsensus[cpu]==1.0.1) (4.6.0.66)\n",
            "Requirement already satisfied: matplotlib in /usr/local/lib/python3.8/dist-packages (from tf-models-official==2.9.2->deepconsensus[cpu]==1.0.1) (3.2.2)\n",
            "Requirement already satisfied: wheel<1.0,>=0.23.0 in /usr/local/lib/python3.8/dist-packages (from astunparse>=1.6.0->intel-tensorflow==2.9.1->deepconsensus[cpu]==1.0.1) (0.38.4)\n",
            "Requirement already satisfied: google-auth-httplib2>=0.0.3 in /usr/local/lib/python3.8/dist-packages (from google-api-python-client>=1.6.7->tf-models-official==2.9.2->deepconsensus[cpu]==1.0.1) (0.0.4)\n",
            "Requirement already satisfied: httplib2<1dev,>=0.15.0 in /usr/local/lib/python3.8/dist-packages (from google-api-python-client>=1.6.7->tf-models-official==2.9.2->deepconsensus[cpu]==1.0.1) (0.17.4)\n",
            "Requirement already satisfied: uritemplate<4dev,>=3.0.0 in /usr/local/lib/python3.8/dist-packages (from google-api-python-client>=1.6.7->tf-models-official==2.9.2->deepconsensus[cpu]==1.0.1) (3.0.1)\n",
            "Requirement already satisfied: google-auth<3dev,>=1.16.0 in /usr/local/lib/python3.8/dist-packages (from google-api-python-client>=1.6.7->tf-models-official==2.9.2->deepconsensus[cpu]==1.0.1) (2.14.1)\n",
            "Requirement already satisfied: google-api-core<3dev,>=1.21.0 in /usr/local/lib/python3.8/dist-packages (from google-api-python-client>=1.6.7->tf-models-official==2.9.2->deepconsensus[cpu]==1.0.1) (2.8.2)\n",
            "Requirement already satisfied: certifi in /usr/local/lib/python3.8/dist-packages (from kaggle>=1.3.9->tf-models-official==2.9.2->deepconsensus[cpu]==1.0.1) (2022.9.24)\n",
            "Requirement already satisfied: requests in /usr/local/lib/python3.8/dist-packages (from kaggle>=1.3.9->tf-models-official==2.9.2->deepconsensus[cpu]==1.0.1) (2.23.0)\n",
            "Requirement already satisfied: tqdm in /usr/local/lib/python3.8/dist-packages (from kaggle>=1.3.9->tf-models-official==2.9.2->deepconsensus[cpu]==1.0.1) (4.64.1)\n",
            "Requirement already satisfied: urllib3 in /usr/local/lib/python3.8/dist-packages (from kaggle>=1.3.9->tf-models-official==2.9.2->deepconsensus[cpu]==1.0.1) (1.24.3)\n",
            "Requirement already satisfied: python-slugify in /usr/local/lib/python3.8/dist-packages (from kaggle>=1.3.9->tf-models-official==2.9.2->deepconsensus[cpu]==1.0.1) (7.0.0)\n",
            "Requirement already satisfied: google-auth-oauthlib<0.5,>=0.4.1 in /usr/local/lib/python3.8/dist-packages (from tensorboard<2.10,>=2.9->intel-tensorflow==2.9.1->deepconsensus[cpu]==1.0.1) (0.4.6)\n",
            "Requirement already satisfied: tensorboard-data-server<0.7.0,>=0.6.0 in /usr/local/lib/python3.8/dist-packages (from tensorboard<2.10,>=2.9->intel-tensorflow==2.9.1->deepconsensus[cpu]==1.0.1) (0.6.1)\n",
            "Requirement already satisfied: tensorboard-plugin-wit>=1.6.0 in /usr/local/lib/python3.8/dist-packages (from tensorboard<2.10,>=2.9->intel-tensorflow==2.9.1->deepconsensus[cpu]==1.0.1) (1.8.1)\n",
            "Requirement already satisfied: markdown>=2.6.8 in /usr/local/lib/python3.8/dist-packages (from tensorboard<2.10,>=2.9->intel-tensorflow==2.9.1->deepconsensus[cpu]==1.0.1) (3.4.1)\n",
            "Requirement already satisfied: werkzeug>=1.0.1 in /usr/local/lib/python3.8/dist-packages (from tensorboard<2.10,>=2.9->intel-tensorflow==2.9.1->deepconsensus[cpu]==1.0.1) (1.0.1)\n",
            "Requirement already satisfied: dm-tree~=0.1.1 in /usr/local/lib/python3.8/dist-packages (from tensorflow-model-optimization>=0.4.1->tf-models-official==2.9.2->deepconsensus[cpu]==1.0.1) (0.1.7)\n",
            "Requirement already satisfied: pyparsing!=2.0.4,!=2.1.2,!=2.1.6,>=2.0.1 in /usr/local/lib/python3.8/dist-packages (from matplotlib->tf-models-official==2.9.2->deepconsensus[cpu]==1.0.1) (3.0.9)\n",
            "Requirement already satisfied: kiwisolver>=1.0.1 in /usr/local/lib/python3.8/dist-packages (from matplotlib->tf-models-official==2.9.2->deepconsensus[cpu]==1.0.1) (1.4.4)\n",
            "Requirement already satisfied: cycler>=0.10 in /usr/local/lib/python3.8/dist-packages (from matplotlib->tf-models-official==2.9.2->deepconsensus[cpu]==1.0.1) (0.11.0)\n",
            "Requirement already satisfied: rsa>=3.1.4 in /usr/local/lib/python3.8/dist-packages (from oauth2client->tf-models-official==2.9.2->deepconsensus[cpu]==1.0.1) (4.9)\n",
            "Requirement already satisfied: pyasn1-modules>=0.0.5 in /usr/local/lib/python3.8/dist-packages (from oauth2client->tf-models-official==2.9.2->deepconsensus[cpu]==1.0.1) (0.2.8)\n",
            "Requirement already satisfied: pyasn1>=0.1.7 in /usr/local/lib/python3.8/dist-packages (from oauth2client->tf-models-official==2.9.2->deepconsensus[cpu]==1.0.1) (0.4.8)\n",
            "Collecting colorama\n",
            "  Downloading colorama-0.4.6-py2.py3-none-any.whl (25 kB)\n",
            "Requirement already satisfied: tabulate>=0.8.9 in /usr/local/lib/python3.8/dist-packages (from sacrebleu->tf-models-official==2.9.2->deepconsensus[cpu]==1.0.1) (0.8.10)\n",
            "Requirement already satisfied: lxml in /usr/local/lib/python3.8/dist-packages (from sacrebleu->tf-models-official==2.9.2->deepconsensus[cpu]==1.0.1) (4.9.1)\n",
            "Collecting portalocker\n",
            "  Downloading portalocker-2.6.0-py2.py3-none-any.whl (15 kB)\n",
            "Requirement already satisfied: regex in /usr/local/lib/python3.8/dist-packages (from sacrebleu->tf-models-official==2.9.2->deepconsensus[cpu]==1.0.1) (2022.6.2)\n",
            "Requirement already satisfied: scikit-learn>=0.21.3 in /usr/local/lib/python3.8/dist-packages (from seqeval->tf-models-official==2.9.2->deepconsensus[cpu]==1.0.1) (1.0.2)\n",
            "Requirement already satisfied: typeguard>=2.7 in /usr/local/lib/python3.8/dist-packages (from tensorflow-addons->tf-models-official==2.9.2->deepconsensus[cpu]==1.0.1) (2.7.1)\n",
            "Requirement already satisfied: toml in /usr/local/lib/python3.8/dist-packages (from tensorflow-datasets->tf-models-official==2.9.2->deepconsensus[cpu]==1.0.1) (0.10.2)\n",
            "Requirement already satisfied: importlib-resources in /usr/local/lib/python3.8/dist-packages (from tensorflow-datasets->tf-models-official==2.9.2->deepconsensus[cpu]==1.0.1) (5.10.0)\n",
            "Requirement already satisfied: etils[epath] in /usr/local/lib/python3.8/dist-packages (from tensorflow-datasets->tf-models-official==2.9.2->deepconsensus[cpu]==1.0.1) (0.9.0)\n",
            "Requirement already satisfied: tensorflow-metadata in /usr/local/lib/python3.8/dist-packages (from tensorflow-datasets->tf-models-official==2.9.2->deepconsensus[cpu]==1.0.1) (1.11.0)\n",
            "Requirement already satisfied: promise in /usr/local/lib/python3.8/dist-packages (from tensorflow-datasets->tf-models-official==2.9.2->deepconsensus[cpu]==1.0.1) (2.3)\n",
            "Requirement already satisfied: dill in /usr/local/lib/python3.8/dist-packages (from tensorflow-datasets->tf-models-official==2.9.2->deepconsensus[cpu]==1.0.1) (0.3.6)\n",
            "Requirement already satisfied: googleapis-common-protos<2.0dev,>=1.56.2 in /usr/local/lib/python3.8/dist-packages (from google-api-core<3dev,>=1.21.0->google-api-python-client>=1.6.7->tf-models-official==2.9.2->deepconsensus[cpu]==1.0.1) (1.57.0)\n",
            "Requirement already satisfied: cachetools<6.0,>=2.0.0 in /usr/local/lib/python3.8/dist-packages (from google-auth<3dev,>=1.16.0->google-api-python-client>=1.6.7->tf-models-official==2.9.2->deepconsensus[cpu]==1.0.1) (5.2.0)\n",
            "Requirement already satisfied: requests-oauthlib>=0.7.0 in /usr/local/lib/python3.8/dist-packages (from google-auth-oauthlib<0.5,>=0.4.1->tensorboard<2.10,>=2.9->intel-tensorflow==2.9.1->deepconsensus[cpu]==1.0.1) (1.3.1)\n",
            "Requirement already satisfied: importlib-metadata>=4.4 in /usr/local/lib/python3.8/dist-packages (from markdown>=2.6.8->tensorboard<2.10,>=2.9->intel-tensorflow==2.9.1->deepconsensus[cpu]==1.0.1) (4.13.0)\n",
            "Requirement already satisfied: chardet<4,>=3.0.2 in /usr/local/lib/python3.8/dist-packages (from requests->kaggle>=1.3.9->tf-models-official==2.9.2->deepconsensus[cpu]==1.0.1) (3.0.4)\n",
            "Requirement already satisfied: idna<3,>=2.5 in /usr/local/lib/python3.8/dist-packages (from requests->kaggle>=1.3.9->tf-models-official==2.9.2->deepconsensus[cpu]==1.0.1) (2.10)\n",
            "Requirement already satisfied: joblib>=0.11 in /usr/local/lib/python3.8/dist-packages (from scikit-learn>=0.21.3->seqeval->tf-models-official==2.9.2->deepconsensus[cpu]==1.0.1) (1.2.0)\n",
            "Requirement already satisfied: threadpoolctl>=2.0.0 in /usr/local/lib/python3.8/dist-packages (from scikit-learn>=0.21.3->seqeval->tf-models-official==2.9.2->deepconsensus[cpu]==1.0.1) (3.1.0)\n",
            "Requirement already satisfied: zipp in /usr/local/lib/python3.8/dist-packages (from etils[epath]->tensorflow-datasets->tf-models-official==2.9.2->deepconsensus[cpu]==1.0.1) (3.10.0)\n",
            "Requirement already satisfied: text-unidecode>=1.3 in /usr/local/lib/python3.8/dist-packages (from python-slugify->kaggle>=1.3.9->tf-models-official==2.9.2->deepconsensus[cpu]==1.0.1) (1.3)\n",
            "Requirement already satisfied: oauthlib>=3.0.0 in /usr/local/lib/python3.8/dist-packages (from requests-oauthlib>=0.7.0->google-auth-oauthlib<0.5,>=0.4.1->tensorboard<2.10,>=2.9->intel-tensorflow==2.9.1->deepconsensus[cpu]==1.0.1) (3.2.2)\n",
            "Building wheels for collected packages: ml-collections, seqeval\n",
            "  Building wheel for ml-collections (setup.py) ... \u001b[?25l\u001b[?25hdone\n",
            "  Created wheel for ml-collections: filename=ml_collections-0.1.1-py3-none-any.whl size=94506 sha256=02945269f76877969349b6780af468a974dcdd84d683d74d96d85a09f94e4057\n",
            "  Stored in directory: /root/.cache/pip/wheels/84/3b/21/d763df59b80fdef92d26aa4790236fbfbc18f11a92e2453382\n",
            "  Building wheel for seqeval (setup.py) ... \u001b[?25l\u001b[?25hdone\n",
            "  Created wheel for seqeval: filename=seqeval-1.2.2-py3-none-any.whl size=16164 sha256=edf7d1ef5cae4b1e55740e4545f84b0efcaa3e53c5b96cba9b6268fb49fe2a24\n",
            "  Stored in directory: /root/.cache/pip/wheels/e3/30/9b/6b670dac34775f2b7cc4e9b172202e81fbb4f9cdb103c1ca66\n",
            "Successfully built ml-collections seqeval\n",
            "Installing collected packages: sentencepiece, pysam, py-cpuinfo, tensorflow-model-optimization, pyyaml, portalocker, colorama, absl-py, tf-slim, tensorflow-addons, sacrebleu, pandas, ml-collections, seqeval, intel-tensorflow, tensorflow-text, tf-models-official, deepconsensus\n",
            "  Attempting uninstall: pyyaml\n",
            "    Found existing installation: PyYAML 6.0\n",
            "    Uninstalling PyYAML-6.0:\n",
            "      Successfully uninstalled PyYAML-6.0\n",
            "  Attempting uninstall: absl-py\n",
            "    Found existing installation: absl-py 1.3.0\n",
            "    Uninstalling absl-py-1.3.0:\n",
            "      Successfully uninstalled absl-py-1.3.0\n",
            "  Attempting uninstall: pandas\n",
            "    Found existing installation: pandas 1.3.5\n",
            "    Uninstalling pandas-1.3.5:\n",
            "      Successfully uninstalled pandas-1.3.5\n",
            "Successfully installed absl-py-1.0.0 colorama-0.4.6 deepconsensus-1.0.1 intel-tensorflow-2.9.1 ml-collections-0.1.1 pandas-1.5.1 portalocker-2.6.0 py-cpuinfo-9.0.0 pysam-0.19.0 pyyaml-5.4.1 sacrebleu-2.3.1 sentencepiece-0.1.97 seqeval-1.2.2 tensorflow-addons-0.18.0 tensorflow-model-optimization-0.7.3 tensorflow-text-2.9.0 tf-models-official-2.9.2 tf-slim-1.1.0\n",
            "\u001b[33mWARNING: Running pip as the 'root' user can result in broken permissions and conflicting behaviour with the system package manager. It is recommended to use a virtual environment instead: https://pip.pypa.io/warnings/venv\u001b[0m\u001b[33m\n",
            "\u001b[0m"
          ]
        }
      ],
      "source": [
        "! pip install --upgrade pip setuptools wheel\n",
        "! pip install deepconsensus[cpu]==1.0.1"
      ]
    },
    {
      "cell_type": "code",
      "execution_count": 2,
      "metadata": {
        "id": "-8acrGN0gO3r"
      },
      "outputs": [],
      "source": [
        "import tensorflow as tf\n",
        "import colorama\n",
        "import numpy as np\n",
        "import random\n",
        "import PIL\n",
        "from IPython.display import display\n",
        "from deepconsensus.models import model_configs\n",
        "from deepconsensus.models import model_utils\n",
        "from deepconsensus.models import data_providers\n",
        "from deepconsensus.utils import dc_constants"
      ]
    },
    {
      "cell_type": "markdown",
      "metadata": {
        "id": "JeEhJhdjz-L9"
      },
      "source": [
        "## Define some useful visualization utilities"
      ]
    },
    {
      "cell_type": "code",
      "execution_count": 3,
      "metadata": {
        "id": "eaNmK2KvDQu4"
      },
      "outputs": [],
      "source": [
        "def plot_array(arr, scale = 5):\n",
        "  \"\"\"Transforms array for plotting.\"\"\"\n",
        "  arr = np.copy(arr).astype('float64')\n",
        "  arr = np.where(arr > 1.0e-10, arr, -10.0)\n",
        "  arr = np.log(arr, where=arr > 0.0, out=arr) * 100.0\n",
        "  arr = np.where(arr > 0, arr + 25.0, 0)\n",
        "  arr = arr.astype('uint8')\n",
        "  im = PIL.Image.fromarray(arr, 'P')\n",
        "  im = im.resize((im.size[0] * scale, im.size[1] * scale))\n",
        "  display(im)\n",
        "\n",
        "def show_rows_for_one_example(rows, max_passes=20):\n",
        "  \"\"\"Break out the black/white matrix into subreads, ccs, PW, IP, etc.\n",
        "\n",
        "  For each of `max_subreads`, we have four pieces of information: bases, PW, IP,\n",
        "  and strand. We also have one row for CCS, and four rows for SN (in that\n",
        "  order).\n",
        "  The information is structured as follows:\n",
        "  Bases: rows 0 to  (params.max_passes - 1)\n",
        "  PW: rows (params.max_passes) to (params.max_passes * 2 - 1)\n",
        "  IP: rows (params.max_passes * 2) to (params.max_passes * 3 - 1)\n",
        "  Strand: rows (params.max_passes * 3) to (params.max_passes * 4 - 1)\n",
        "  CCS+SN: rows (params.max_passes * 4) to (params.max_passes * 4 + 5)\n",
        "  \"\"\"\n",
        "  print('bases:')\n",
        "  plot_array(rows[0:max_passes])\n",
        "  print('PW: pulse-width')\n",
        "  pw = rows[max_passes:max_passes*2]\n",
        "  plot_array(pw)\n",
        "  print('IP: inter-pulse duration')\n",
        "  ip = rows[max_passes*2:max_passes*3]\n",
        "  plot_array(ip)\n",
        "\n",
        "  print('Strand:')\n",
        "  plot_array(rows[max_passes*3:-5])\n",
        "\n",
        "  print('CCS:')\n",
        "  ccs = rows[-5:-4]\n",
        "  plot_array(ccs)\n",
        "  print('SN:')\n",
        "  sn = rows[-4:]\n",
        "  plot_array(sn)"
      ]
    },
    {
      "cell_type": "code",
      "execution_count": 4,
      "metadata": {
        "id": "I6JvBvGDz__7"
      },
      "outputs": [],
      "source": [
        "def encoded_sequence_to_string(encoded_sequence):\n",
        "  \"\"\"Convert an encoded sequence (a series of integers) to a DNA string.\"\"\"\n",
        "  return ''.join([dc_constants.VOCAB[int(base)] for base in encoded_sequence])\n",
        "\n",
        "\n",
        "def get_ccs_matrix(rows_for_one_example):\n",
        "  \"\"\"Slice the encoded CCS out of the 2d rows matrix of one example.\"\"\"\n",
        "  return rows_for_one_example[-5, :]\n",
        "\n",
        "\n",
        "def get_ccs_seq(rows_for_one_example):\n",
        "  \"\"\"Get CCS string out of the 2d rows matrix of one example.\"\"\"\n",
        "  return encoded_sequence_to_string(get_ccs_matrix(rows_for_one_example))\n",
        "\n",
        "\n",
        "def colorful(seq):\n",
        "  \"\"\"Add colors to a sequence of DNA.\"\"\"\n",
        "  fore = colorama.Fore\n",
        "  background = colorama.Back\n",
        "  colors = {\n",
        "      'A': fore.GREEN,\n",
        "      'C': fore.BLUE,\n",
        "      'G': fore.YELLOW,\n",
        "      'T': fore.RED,\n",
        "      dc_constants.GAP: background.WHITE\n",
        "  }\n",
        "  reset = fore.BLACK + background.RESET\n",
        "  colored_seq = [f'{colors.get(base, reset)}{base}{reset}' for base in seq]\n",
        "  return ''.join(colored_seq)\n",
        "\n",
        "\n",
        "def show_example(batch, example_i, ypreds=None, max_passes=20):\n",
        "  \"\"\"Show an example with subreads, ccs, predictions, and labels.\"\"\"\n",
        "  batch_size = batch['rows'].shape[0]\n",
        "  rows = batch['rows'][example_i, :, :, 0]\n",
        "  ccs_i = get_ccs_seq(rows)\n",
        "  print(f'Example: {example_i} of {batch_size} (batch)')\n",
        "  print('How the sequences are represented for the model:')\n",
        "  subreads = rows[0:max_passes, :]\n",
        "  for subread_i in range(len(subreads)):\n",
        "    print(f'Subread {subread_i + 1}\\t',\n",
        "          colorful(encoded_sequence_to_string(subreads[subread_i, :])))\n",
        "  print('ccs:\\t\\t', colorful(ccs_i))\n",
        "  if ypreds is not None:\n",
        "    predicted_sequence = encoded_sequence_to_string(ypreds[example_i])\n",
        "    print('prediction:\\t', colorful(predicted_sequence))\n",
        "  if 'label' in batch:\n",
        "    label = encoded_sequence_to_string(batch['label'][example_i])\n",
        "    print('label:\\t\\t', colorful(label))\n",
        "  print('\\n')\n"
      ]
    },
    {
      "cell_type": "markdown",
      "metadata": {
        "id": "9ud2PAKoRkPQ"
      },
      "source": [
        "## Load the model"
      ]
    },
    {
      "cell_type": "code",
      "execution_count": 5,
      "metadata": {
        "colab": {
          "base_uri": "https://localhost:8080/"
        },
        "id": "qSChLKTvJbbT",
        "outputId": "0fa4a7c1-f265-4a72-f9fe-1b64dab9d72e"
      },
      "outputs": [
        {
          "output_type": "stream",
          "name": "stdout",
          "text": [
            "Copying gs://brain-genomics-public/research/deepconsensus/models/v1.0/model_checkpoint/checkpoint.data-00000-of-00001...\n",
            "Copying gs://brain-genomics-public/research/deepconsensus/models/v1.0/model_checkpoint/checkpoint.index...\n",
            "Copying gs://brain-genomics-public/research/deepconsensus/models/v1.0/model_checkpoint/params.json...\n",
            "| [3 files][ 85.7 MiB/ 85.7 MiB]                                                \n",
            "Operation completed over 3 objects/85.7 MiB.                                     \n",
            "Copying gs://brain-genomics-public/research/deepconsensus/training-tutorial/v1.0/test/tf-test-00001-of-00002.tfrecord.gz...\n",
            "/ [1 files][  6.9 MiB/  6.9 MiB]                                                \n",
            "Operation completed over 1 objects/6.9 MiB.                                      \n"
          ]
        }
      ],
      "source": [
        "# Download Model\n",
        "! mkdir -p deepconsensus_model\n",
        "! gsutil cp -r gs://brain-genomics-public/research/deepconsensus/models/v1.0/model_checkpoint/* deepconsensus_model/\n",
        "# Download test data\n",
        "! gsutil cp gs://brain-genomics-public/research/deepconsensus/training-tutorial/v1.0/test/tf-test-00001-of-00002.tfrecord.gz ./tf-test.tfrecord.gz"
      ]
    },
    {
      "cell_type": "code",
      "execution_count": 6,
      "metadata": {
        "colab": {
          "base_uri": "https://localhost:8080/"
        },
        "id": "4j-SQrmrKOeB",
        "outputId": "f7ebb2d8-d98e-47ff-9bd5-c3d85901e3b2"
      },
      "outputs": [
        {
          "output_type": "stream",
          "name": "stdout",
          "text": [
            "Model: \"encoder_only_learned_values_transformer\"\n",
            "_________________________________________________________________\n",
            " Layer (type)                Output Shape              Param #   \n",
            "=================================================================\n",
            " relative_position_embedding  multiple                 0         \n",
            "  (RelativePositionEmbedding                                     \n",
            " )                                                               \n",
            "                                                                 \n",
            " encoder_stack (EncoderStack  multiple                 7320200   \n",
            " )                                                               \n",
            "                                                                 \n",
            " dense (Dense)               multiple                  1405      \n",
            "                                                                 \n",
            " softmax (Softmax)           multiple                  0         \n",
            "                                                                 \n",
            " bases_embedding (ModifiedOn  multiple                 40        \n",
            " DeviceEmbedding)                                                \n",
            "                                                                 \n",
            " pw_embedding (ModifiedOnDev  multiple                 2048      \n",
            " iceEmbedding)                                                   \n",
            "                                                                 \n",
            " ip_embedding (ModifiedOnDev  multiple                 2048      \n",
            " iceEmbedding)                                                   \n",
            "                                                                 \n",
            " sn_embedding (ModifiedOnDev  multiple                 4008      \n",
            " iceEmbedding)                                                   \n",
            "                                                                 \n",
            " strand_embedding (ModifiedO  multiple                 6         \n",
            " nDeviceEmbedding)                                               \n",
            "                                                                 \n",
            " dense_1 (Dense)             multiple                  156800    \n",
            "                                                                 \n",
            "=================================================================\n",
            "Total params: 7,486,555\n",
            "Trainable params: 7,486,555\n",
            "Non-trainable params: 0\n",
            "_________________________________________________________________\n"
          ]
        }
      ],
      "source": [
        "checkpoint_path = 'deepconsensus_model/checkpoint'\n",
        "params = model_utils.read_params_from_json(checkpoint_path=checkpoint_path)\n",
        "\n",
        "model = model_utils.get_model(params)\n",
        "checkpoint = tf.train.Checkpoint(model=model)\n",
        "\n",
        "row_size = data_providers.get_total_rows(params.max_passes)\n",
        "input_shape = (1, row_size, params.max_length, params.num_channels)\n",
        "model_utils.print_model_summary(model, input_shape)\n",
        "checkpoint.restore(\n",
        "    checkpoint_path).expect_partial().assert_existing_objects_matched()\n",
        "\n",
        "model_utils.modify_params(\n",
        "  params=params,\n",
        "  speedy=True,\n",
        "  max_length=100,\n",
        "  is_training=False)"
      ]
    },
    {
      "cell_type": "markdown",
      "metadata": {
        "id": "q9l_un5cE7la"
      },
      "source": [
        "# Load examples from tfrecords"
      ]
    },
    {
      "cell_type": "code",
      "execution_count": 7,
      "metadata": {
        "colab": {
          "base_uri": "https://localhost:8080/"
        },
        "id": "5LofUAISLJCk",
        "outputId": "8b2b1265-1658-496a-8ae7-cece1f3b9b47"
      },
      "outputs": [
        {
          "output_type": "stream",
          "name": "stdout",
          "text": [
            "name.shape: (20, 1)\n",
            "label.shape: (20, 100)\n",
            "rows.shape: (20, 85, 100, 1)\n",
            "num_passes.shape: (20, 1)\n",
            "window_pos.shape: (20, 1)\n"
          ]
        }
      ],
      "source": [
        "tfrecord_path = 'tf-test.tfrecord.gz'\n",
        "\n",
        "# Number of examples:\n",
        "batch_size = 20  #@param\n",
        "\n",
        "ds = data_providers.get_dataset(tfrecord_path,\n",
        "                                num_epochs=None,\n",
        "                                batch_size=batch_size,\n",
        "                                params=params,\n",
        "                                inference=False)\n",
        "\n",
        "# Just get one batch to inspect:\n",
        "for batch in ds.take(1):\n",
        "  break\n",
        "\n",
        "keys = ['name', 'label', 'rows', 'num_passes', 'window_pos']\n",
        "for key in keys:\n",
        "  print(f'{key}.shape: {batch[key].shape}')"
      ]
    },
    {
      "cell_type": "markdown",
      "metadata": {
        "id": "PNQh8unFFBY3"
      },
      "source": [
        "## Visualize the rows of one example. This is what the model sees.\n",
        "\n",
        "Rows is of shape `[batch_size, input_size, length, 1]`.\n",
        "\n",
        "So when we take `rows[example_i,:,:,0]`, that is one example in the batch, and we get a 2D matrix (getting rid of the last dimension that was only a placeholder for model code)."
      ]
    },
    {
      "cell_type": "code",
      "execution_count": 8,
      "metadata": {
        "colab": {
          "base_uri": "https://localhost:8080/",
          "height": 529
        },
        "id": "z_UtiU_a3K7b",
        "outputId": "9dc08e8b-b950-4618-d5e3-4297344749cf"
      },
      "outputs": [
        {
          "output_type": "stream",
          "name": "stdout",
          "text": [
            "Example: 12 of 20 (batch)\n",
            "ZMW: b'm64014_200920_132517/77989759/ccs'\n",
            "window_pos: 17423 bp (where example starts within the CCS read)\n",
            "num_passes: 10 subreads\n",
            "What the model sees:\n"
          ]
        },
        {
          "output_type": "display_data",
          "data": {
            "text/plain": [
              "<PIL.Image.Image image mode=P size=500x425 at 0x7F4CBB00C760>"
            ],
            "image/png": "[encoded data removed]"
          },
          "metadata": {}
        }
      ],
      "source": [
        "example_i = int(random.random() * batch_size)\n",
        "\n",
        "print(f'Example: {example_i} of {batch_size} (batch)')\n",
        "print('ZMW:', batch['name'][example_i].numpy()[0])\n",
        "print('window_pos:', int(batch['window_pos'][example_i].numpy()), 'bp (where example starts within the CCS read)')\n",
        "print('num_passes:', int(batch['num_passes'][example_i]), 'subreads')\n",
        "print('What the model sees:')\n",
        "\n",
        "plot_array(batch['rows'][example_i,:,:,0].numpy())\n"
      ]
    },
    {
      "cell_type": "markdown",
      "metadata": {
        "id": "vwMpZP4EFKbF"
      },
      "source": [
        "### Let's break that down\n",
        "\n",
        "Each matrix is composed of multiple data types layered in rows. The bases, pulse-width, inter-pulse duration, and strand are per-subread, up to the max number of subreads (this is in params.max_passes, which as of DeepConsensus v0.3 is 20). The input also contains a draft circular consensus sequence (CCS) from PacBio and the signal-to-noise ratio (SN)."
      ]
    },
    {
      "cell_type": "code",
      "execution_count": 9,
      "metadata": {
        "colab": {
          "base_uri": "https://localhost:8080/",
          "height": 576
        },
        "id": "o_n_pl8N6kmL",
        "outputId": "f93d7a5c-b9ca-4198-88a2-1c5683215253"
      },
      "outputs": [
        {
          "output_type": "stream",
          "name": "stdout",
          "text": [
            "Example: 12 of 20 (batch)\n",
            "bases:\n"
          ]
        },
        {
          "output_type": "display_data",
          "data": {
            "text/plain": [
              "<PIL.Image.Image image mode=P size=500x100 at 0x7F4CBD960670>"
            ],
            "image/png": "[encoded data removed]"
          },
          "metadata": {}
        },
        {
          "output_type": "stream",
          "name": "stdout",
          "text": [
            "PW: pulse-width\n"
          ]
        },
        {
          "output_type": "display_data",
          "data": {
            "text/plain": [
              "<PIL.Image.Image image mode=P size=500x100 at 0x7F4CBD960BE0>"
            ],
            "image/png": "[encoded data removed]"
          },
          "metadata": {}
        },
        {
          "output_type": "stream",
          "name": "stdout",
          "text": [
            "IP: inter-pulse duration\n"
          ]
        },
        {
          "output_type": "display_data",
          "data": {
            "text/plain": [
              "<PIL.Image.Image image mode=P size=500x100 at 0x7F4CBD960B80>"
            ],
            "image/png": "[encoded data removed]"
          },
          "metadata": {}
        },
        {
          "output_type": "stream",
          "name": "stdout",
          "text": [
            "Strand:\n"
          ]
        },
        {
          "output_type": "display_data",
          "data": {
            "text/plain": [
              "<PIL.Image.Image image mode=P size=500x100 at 0x7F4CBD960D60>"
            ],
            "image/png": "[encoded data removed]"
          },
          "metadata": {}
        },
        {
          "output_type": "stream",
          "name": "stdout",
          "text": [
            "CCS:\n"
          ]
        },
        {
          "output_type": "display_data",
          "data": {
            "text/plain": [
              "<PIL.Image.Image image mode=P size=500x5 at 0x7F4CBD960B20>"
            ],
            "image/png": "[encoded data removed]"
          },
          "metadata": {}
        },
        {
          "output_type": "stream",
          "name": "stdout",
          "text": [
            "SN:\n"
          ]
        },
        {
          "output_type": "display_data",
          "data": {
            "text/plain": [
              "<PIL.Image.Image image mode=P size=500x20 at 0x7F4CBD960A30>"
            ],
            "image/png": "[encoded data removed]"
          },
          "metadata": {}
        }
      ],
      "source": [
        "print(f'Example: {example_i} of {batch_size} (batch)')\n",
        "show_rows_for_one_example(rows=batch['rows'][example_i,:,:,0].numpy())"
      ]
    },
    {
      "cell_type": "markdown",
      "metadata": {
        "id": "E1bfS54qJmKS"
      },
      "source": [
        "# Run the model\n",
        "\n",
        "Run the model on `rows`, which is the input data for the model that we visualized above."
      ]
    },
    {
      "cell_type": "code",
      "execution_count": 10,
      "metadata": {
        "colab": {
          "base_uri": "https://localhost:8080/"
        },
        "id": "PhZ9e3c4Ev_q",
        "outputId": "77dc3af2-77b0-498c-9bde-fbca70888664"
      },
      "outputs": [
        {
          "output_type": "stream",
          "name": "stdout",
          "text": [
            "(20, 100, 5)\n"
          ]
        }
      ],
      "source": [
        "softmax_output = model.predict(batch['rows'])\n",
        "print(softmax_output.shape)"
      ]
    },
    {
      "cell_type": "code",
      "execution_count": 11,
      "metadata": {
        "colab": {
          "base_uri": "https://localhost:8080/"
        },
        "id": "1fUdN5Qk4BqR",
        "outputId": "d1a24ed9-3872-4447-d08f-5b337044bce6"
      },
      "outputs": [
        {
          "output_type": "stream",
          "name": "stdout",
          "text": [
            "(20, 100)\n"
          ]
        }
      ],
      "source": [
        "y_preds = np.argmax(softmax_output, -1)\n",
        "print(y_preds.shape)"
      ]
    },
    {
      "cell_type": "markdown",
      "metadata": {
        "id": "ubbKa3ohHnNU"
      },
      "source": [
        "### Interpreting y_preds output"
      ]
    },
    {
      "cell_type": "code",
      "execution_count": 12,
      "metadata": {
        "colab": {
          "base_uri": "https://localhost:8080/"
        },
        "id": "Ccsv4-2tGY_B",
        "outputId": "df41fb5c-6ca4-4a09-9edf-3547f04963ee"
      },
      "outputs": [
        {
          "output_type": "stream",
          "name": "stdout",
          "text": [
            "Prediction for example 12:\n",
            "[2 4 4 1 4 2 3 2 3 1 3 1 3 2 4 2 0 0 3 4 3 3 1 4 4 3 2 4 4 1 4 2 0 4 3 0 1\n",
            " 4 0 2 0 4 4 3 4 3 0 4 1 4 0 3 2 3 1 4 3 0 2 3 1 3 2 4 3 0 0 1 1 0 0 0 0 0\n",
            " 3 3 2 3 3 4 3 0 3 3 2 0 3 3 4 1 4 2 2 3 0 0 1 1 4 3]\n",
            "Which translates to:\n",
            "TGGAGTCTCACACTGT  CGCCAGGCTGGAGT GC AG T GGCGC GAG CTCAGC TCACTGC  AA     CCTCCGC CCT CCGAGTTC  AAGC\n"
          ]
        }
      ],
      "source": [
        "prediction = y_preds[example_i]\n",
        "print(f'Prediction for example {example_i}:')\n",
        "print(prediction)\n",
        "print('Which translates to:')\n",
        "print(encoded_sequence_to_string(prediction))"
      ]
    },
    {
      "cell_type": "code",
      "execution_count": 13,
      "metadata": {
        "colab": {
          "base_uri": "https://localhost:8080/"
        },
        "id": "aev-USdKHido",
        "outputId": "961e2925-65d7-4654-8490-6d61bd0c44bd"
      },
      "outputs": [
        {
          "output_type": "stream",
          "name": "stdout",
          "text": [
            "For reference, the alphabet is:\n",
            "0 -> \" \"\n",
            "1 -> \"A\"\n",
            "2 -> \"T\"\n",
            "3 -> \"C\"\n",
            "4 -> \"G\"\n"
          ]
        }
      ],
      "source": [
        "print('For reference, the alphabet is:')\n",
        "print('\\n'.join([f'{i} -> \"{s}\"' for i,s in enumerate(dc_constants.VOCAB)]))"
      ]
    },
    {
      "cell_type": "markdown",
      "metadata": {
        "id": "-h8WSfZ1xNB8"
      },
      "source": [
        "# Visualize example sequences alongside prediction and label"
      ]
    },
    {
      "cell_type": "code",
      "execution_count": 14,
      "metadata": {
        "colab": {
          "base_uri": "https://localhost:8080/"
        },
        "id": "575Hy7n-xTZS",
        "outputId": "a02cde83-00e1-4f8b-8043-6715b28e1bf1"
      },
      "outputs": [
        {
          "output_type": "stream",
          "name": "stdout",
          "text": [
            "Example: 12 of 20 (batch)\n",
            "How the sequences are represented for the model:\n",
            "Subread 1\t \u001b[47m \u001b[30m\u001b[49m\u001b[47m \u001b[30m\u001b[49m\u001b[47m \u001b[30m\u001b[49m\u001b[47m \u001b[30m\u001b[49m\u001b[47m \u001b[30m\u001b[49m\u001b[47m \u001b[30m\u001b[49m\u001b[47m \u001b[30m\u001b[49m\u001b[47m \u001b[30m\u001b[49m\u001b[47m \u001b[30m\u001b[49m\u001b[47m \u001b[30m\u001b[49m\u001b[47m \u001b[30m\u001b[49m\u001b[47m \u001b[30m\u001b[49m\u001b[47m \u001b[30m\u001b[49m\u001b[47m \u001b[30m\u001b[49m\u001b[47m \u001b[30m\u001b[49m\u001b[47m \u001b[30m\u001b[49m\u001b[47m \u001b[30m\u001b[49m\u001b[47m \u001b[30m\u001b[49m\u001b[47m \u001b[30m\u001b[49m\u001b[47m \u001b[30m\u001b[49m\u001b[47m \u001b[30m\u001b[49m\u001b[47m \u001b[30m\u001b[49m\u001b[47m \u001b[30m\u001b[49m\u001b[47m \u001b[30m\u001b[49m\u001b[47m \u001b[30m\u001b[49m\u001b[47m \u001b[30m\u001b[49m\u001b[47m \u001b[30m\u001b[49m\u001b[47m \u001b[30m\u001b[49m\u001b[47m \u001b[30m\u001b[49m\u001b[47m \u001b[30m\u001b[49m\u001b[47m \u001b[30m\u001b[49m\u001b[47m \u001b[30m\u001b[49m\u001b[47m \u001b[30m\u001b[49m\u001b[47m \u001b[30m\u001b[49m\u001b[47m \u001b[30m\u001b[49m\u001b[47m \u001b[30m\u001b[49m\u001b[47m \u001b[30m\u001b[49m\u001b[47m \u001b[30m\u001b[49m\u001b[47m \u001b[30m\u001b[49m\u001b[47m \u001b[30m\u001b[49m\u001b[47m \u001b[30m\u001b[49m\u001b[47m \u001b[30m\u001b[49m\u001b[47m \u001b[30m\u001b[49m\u001b[47m \u001b[30m\u001b[49m\u001b[47m \u001b[30m\u001b[49m\u001b[47m \u001b[30m\u001b[49m\u001b[47m \u001b[30m\u001b[49m\u001b[47m \u001b[30m\u001b[49m\u001b[47m \u001b[30m\u001b[49m\u001b[47m \u001b[30m\u001b[49m\u001b[47m \u001b[30m\u001b[49m\u001b[47m \u001b[30m\u001b[49m\u001b[47m \u001b[30m\u001b[49m\u001b[47m \u001b[30m\u001b[49m\u001b[47m \u001b[30m\u001b[49m\u001b[47m \u001b[30m\u001b[49m\u001b[47m \u001b[30m\u001b[49m\u001b[47m \u001b[30m\u001b[49m\u001b[47m \u001b[30m\u001b[49m\u001b[47m \u001b[30m\u001b[49m\u001b[47m \u001b[30m\u001b[49m\u001b[47m \u001b[30m\u001b[49m\u001b[47m \u001b[30m\u001b[49m\u001b[47m \u001b[30m\u001b[49m\u001b[47m \u001b[30m\u001b[49m\u001b[47m \u001b[30m\u001b[49m\u001b[47m \u001b[30m\u001b[49m\u001b[47m \u001b[30m\u001b[49m\u001b[47m \u001b[30m\u001b[49m\u001b[47m \u001b[30m\u001b[49m\u001b[47m \u001b[30m\u001b[49m\u001b[47m \u001b[30m\u001b[49m\u001b[47m \u001b[30m\u001b[49m\u001b[47m \u001b[30m\u001b[49m\u001b[47m \u001b[30m\u001b[49m\u001b[47m \u001b[30m\u001b[49m\u001b[47m \u001b[30m\u001b[49m\u001b[47m \u001b[30m\u001b[49m\u001b[47m \u001b[30m\u001b[49m\u001b[47m \u001b[30m\u001b[49m\u001b[47m \u001b[30m\u001b[49m\u001b[47m \u001b[30m\u001b[49m\u001b[47m \u001b[30m\u001b[49m\u001b[47m \u001b[30m\u001b[49m\u001b[47m \u001b[30m\u001b[49m\u001b[47m \u001b[30m\u001b[49m\u001b[47m \u001b[30m\u001b[49m\u001b[47m \u001b[30m\u001b[49m\u001b[47m \u001b[30m\u001b[49m\u001b[47m \u001b[30m\u001b[49m\u001b[47m \u001b[30m\u001b[49m\u001b[47m \u001b[30m\u001b[49m\u001b[47m \u001b[30m\u001b[49m\u001b[47m \u001b[30m\u001b[49m\u001b[47m \u001b[30m\u001b[49m\u001b[47m \u001b[30m\u001b[49m\u001b[47m \u001b[30m\u001b[49m\u001b[47m \u001b[30m\u001b[49m\u001b[47m \u001b[30m\u001b[49m\u001b[47m \u001b[30m\u001b[49m\n",
            "Subread 2\t \u001b[31mT\u001b[30m\u001b[49m\u001b[33mG\u001b[30m\u001b[49m\u001b[33mG\u001b[30m\u001b[49m\u001b[32mA\u001b[30m\u001b[49m\u001b[33mG\u001b[30m\u001b[49m\u001b[31mT\u001b[30m\u001b[49m\u001b[34mC\u001b[30m\u001b[49m\u001b[32mA\u001b[30m\u001b[49m\u001b[34mC\u001b[30m\u001b[49m\u001b[32mA\u001b[30m\u001b[49m\u001b[34mC\u001b[30m\u001b[49m\u001b[32mA\u001b[30m\u001b[49m\u001b[34mC\u001b[30m\u001b[49m\u001b[31mT\u001b[30m\u001b[49m\u001b[33mG\u001b[30m\u001b[49m\u001b[31mT\u001b[30m\u001b[49m\u001b[47m \u001b[30m\u001b[49m\u001b[47m \u001b[30m\u001b[49m\u001b[34mC\u001b[30m\u001b[49m\u001b[33mG\u001b[30m\u001b[49m\u001b[34mC\u001b[30m\u001b[49m\u001b[34mC\u001b[30m\u001b[49m\u001b[32mA\u001b[30m\u001b[49m\u001b[33mG\u001b[30m\u001b[49m\u001b[33mG\u001b[30m\u001b[49m\u001b[34mC\u001b[30m\u001b[49m\u001b[31mT\u001b[30m\u001b[49m\u001b[33mG\u001b[30m\u001b[49m\u001b[33mG\u001b[30m\u001b[49m\u001b[32mA\u001b[30m\u001b[49m\u001b[33mG\u001b[30m\u001b[49m\u001b[31mT\u001b[30m\u001b[49m\u001b[47m \u001b[30m\u001b[49m\u001b[33mG\u001b[30m\u001b[49m\u001b[34mC\u001b[30m\u001b[49m\u001b[47m \u001b[30m\u001b[49m\u001b[32mA\u001b[30m\u001b[49m\u001b[33mG\u001b[30m\u001b[49m\u001b[47m \u001b[30m\u001b[49m\u001b[31mT\u001b[30m\u001b[49m\u001b[47m \u001b[30m\u001b[49m\u001b[33mG\u001b[30m\u001b[49m\u001b[33mG\u001b[30m\u001b[49m\u001b[34mC\u001b[30m\u001b[49m\u001b[33mG\u001b[30m\u001b[49m\u001b[34mC\u001b[30m\u001b[49m\u001b[47m \u001b[30m\u001b[49m\u001b[33mG\u001b[30m\u001b[49m\u001b[32mA\u001b[30m\u001b[49m\u001b[33mG\u001b[30m\u001b[49m\u001b[31mT\u001b[30m\u001b[49m\u001b[34mC\u001b[30m\u001b[49m\u001b[31mT\u001b[30m\u001b[49m\u001b[34mC\u001b[30m\u001b[49m\u001b[32mA\u001b[30m\u001b[49m\u001b[33mG\u001b[30m\u001b[49m\u001b[34mC\u001b[30m\u001b[49m\u001b[47m \u001b[30m\u001b[49m\u001b[31mT\u001b[30m\u001b[49m\u001b[34mC\u001b[30m\u001b[49m\u001b[32mA\u001b[30m\u001b[49m\u001b[34mC\u001b[30m\u001b[49m\u001b[31mT\u001b[30m\u001b[49m\u001b[33mG\u001b[30m\u001b[49m\u001b[34mC\u001b[30m\u001b[49m\u001b[32mA\u001b[30m\u001b[49m\u001b[47m \u001b[30m\u001b[49m\u001b[32mA\u001b[30m\u001b[49m\u001b[32mA\u001b[30m\u001b[49m\u001b[47m \u001b[30m\u001b[49m\u001b[47m \u001b[30m\u001b[49m\u001b[47m \u001b[30m\u001b[49m\u001b[47m \u001b[30m\u001b[49m\u001b[47m \u001b[30m\u001b[49m\u001b[34mC\u001b[30m\u001b[49m\u001b[34mC\u001b[30m\u001b[49m\u001b[31mT\u001b[30m\u001b[49m\u001b[47m \u001b[30m\u001b[49m\u001b[34mC\u001b[30m\u001b[49m\u001b[33mG\u001b[30m\u001b[49m\u001b[34mC\u001b[30m\u001b[49m\u001b[47m \u001b[30m\u001b[49m\u001b[34mC\u001b[30m\u001b[49m\u001b[34mC\u001b[30m\u001b[49m\u001b[31mT\u001b[30m\u001b[49m\u001b[47m \u001b[30m\u001b[49m\u001b[34mC\u001b[30m\u001b[49m\u001b[34mC\u001b[30m\u001b[49m\u001b[33mG\u001b[30m\u001b[49m\u001b[32mA\u001b[30m\u001b[49m\u001b[33mG\u001b[30m\u001b[49m\u001b[31mT\u001b[30m\u001b[49m\u001b[31mT\u001b[30m\u001b[49m\u001b[34mC\u001b[30m\u001b[49m\u001b[47m \u001b[30m\u001b[49m\u001b[47m \u001b[30m\u001b[49m\u001b[32mA\u001b[30m\u001b[49m\u001b[32mA\u001b[30m\u001b[49m\u001b[33mG\u001b[30m\u001b[49m\u001b[34mC\u001b[30m\u001b[49m\n",
            "Subread 3\t \u001b[31mT\u001b[30m\u001b[49m\u001b[33mG\u001b[30m\u001b[49m\u001b[33mG\u001b[30m\u001b[49m\u001b[32mA\u001b[30m\u001b[49m\u001b[33mG\u001b[30m\u001b[49m\u001b[31mT\u001b[30m\u001b[49m\u001b[34mC\u001b[30m\u001b[49m\u001b[31mT\u001b[30m\u001b[49m\u001b[34mC\u001b[30m\u001b[49m\u001b[32mA\u001b[30m\u001b[49m\u001b[34mC\u001b[30m\u001b[49m\u001b[32mA\u001b[30m\u001b[49m\u001b[34mC\u001b[30m\u001b[49m\u001b[31mT\u001b[30m\u001b[49m\u001b[33mG\u001b[30m\u001b[49m\u001b[31mT\u001b[30m\u001b[49m\u001b[47m \u001b[30m\u001b[49m\u001b[47m \u001b[30m\u001b[49m\u001b[34mC\u001b[30m\u001b[49m\u001b[33mG\u001b[30m\u001b[49m\u001b[34mC\u001b[30m\u001b[49m\u001b[34mC\u001b[30m\u001b[49m\u001b[32mA\u001b[30m\u001b[49m\u001b[47m \u001b[30m\u001b[49m\u001b[33mG\u001b[30m\u001b[49m\u001b[34mC\u001b[30m\u001b[49m\u001b[31mT\u001b[30m\u001b[49m\u001b[47m \u001b[30m\u001b[49m\u001b[33mG\u001b[30m\u001b[49m\u001b[32mA\u001b[30m\u001b[49m\u001b[33mG\u001b[30m\u001b[49m\u001b[31mT\u001b[30m\u001b[49m\u001b[47m \u001b[30m\u001b[49m\u001b[33mG\u001b[30m\u001b[49m\u001b[34mC\u001b[30m\u001b[49m\u001b[47m \u001b[30m\u001b[49m\u001b[32mA\u001b[30m\u001b[49m\u001b[33mG\u001b[30m\u001b[49m\u001b[47m \u001b[30m\u001b[49m\u001b[31mT\u001b[30m\u001b[49m\u001b[47m \u001b[30m\u001b[49m\u001b[47m \u001b[30m\u001b[49m\u001b[33mG\u001b[30m\u001b[49m\u001b[34mC\u001b[30m\u001b[49m\u001b[33mG\u001b[30m\u001b[49m\u001b[34mC\u001b[30m\u001b[49m\u001b[47m \u001b[30m\u001b[49m\u001b[33mG\u001b[30m\u001b[49m\u001b[32mA\u001b[30m\u001b[49m\u001b[33mG\u001b[30m\u001b[49m\u001b[47m \u001b[30m\u001b[49m\u001b[34mC\u001b[30m\u001b[49m\u001b[31mT\u001b[30m\u001b[49m\u001b[34mC\u001b[30m\u001b[49m\u001b[32mA\u001b[30m\u001b[49m\u001b[33mG\u001b[30m\u001b[49m\u001b[34mC\u001b[30m\u001b[49m\u001b[47m \u001b[30m\u001b[49m\u001b[31mT\u001b[30m\u001b[49m\u001b[34mC\u001b[30m\u001b[49m\u001b[31mT\u001b[30m\u001b[49m\u001b[34mC\u001b[30m\u001b[49m\u001b[31mT\u001b[30m\u001b[49m\u001b[33mG\u001b[30m\u001b[49m\u001b[34mC\u001b[30m\u001b[49m\u001b[47m \u001b[30m\u001b[49m\u001b[47m \u001b[30m\u001b[49m\u001b[32mA\u001b[30m\u001b[49m\u001b[32mA\u001b[30m\u001b[49m\u001b[47m \u001b[30m\u001b[49m\u001b[47m \u001b[30m\u001b[49m\u001b[47m \u001b[30m\u001b[49m\u001b[47m \u001b[30m\u001b[49m\u001b[47m \u001b[30m\u001b[49m\u001b[34mC\u001b[30m\u001b[49m\u001b[34mC\u001b[30m\u001b[49m\u001b[31mT\u001b[30m\u001b[49m\u001b[34mC\u001b[30m\u001b[49m\u001b[34mC\u001b[30m\u001b[49m\u001b[33mG\u001b[30m\u001b[49m\u001b[34mC\u001b[30m\u001b[49m\u001b[47m \u001b[30m\u001b[49m\u001b[34mC\u001b[30m\u001b[49m\u001b[34mC\u001b[30m\u001b[49m\u001b[31mT\u001b[30m\u001b[49m\u001b[47m \u001b[30m\u001b[49m\u001b[34mC\u001b[30m\u001b[49m\u001b[34mC\u001b[30m\u001b[49m\u001b[33mG\u001b[30m\u001b[49m\u001b[32mA\u001b[30m\u001b[49m\u001b[33mG\u001b[30m\u001b[49m\u001b[31mT\u001b[30m\u001b[49m\u001b[31mT\u001b[30m\u001b[49m\u001b[34mC\u001b[30m\u001b[49m\u001b[47m \u001b[30m\u001b[49m\u001b[47m \u001b[30m\u001b[49m\u001b[32mA\u001b[30m\u001b[49m\u001b[32mA\u001b[30m\u001b[49m\u001b[33mG\u001b[30m\u001b[49m\u001b[31mT\u001b[30m\u001b[49m\n",
            "Subread 4\t \u001b[32mA\u001b[30m\u001b[49m\u001b[33mG\u001b[30m\u001b[49m\u001b[33mG\u001b[30m\u001b[49m\u001b[32mA\u001b[30m\u001b[49m\u001b[33mG\u001b[30m\u001b[49m\u001b[31mT\u001b[30m\u001b[49m\u001b[34mC\u001b[30m\u001b[49m\u001b[31mT\u001b[30m\u001b[49m\u001b[34mC\u001b[30m\u001b[49m\u001b[32mA\u001b[30m\u001b[49m\u001b[34mC\u001b[30m\u001b[49m\u001b[32mA\u001b[30m\u001b[49m\u001b[34mC\u001b[30m\u001b[49m\u001b[31mT\u001b[30m\u001b[49m\u001b[33mG\u001b[30m\u001b[49m\u001b[31mT\u001b[30m\u001b[49m\u001b[47m \u001b[30m\u001b[49m\u001b[47m \u001b[30m\u001b[49m\u001b[34mC\u001b[30m\u001b[49m\u001b[33mG\u001b[30m\u001b[49m\u001b[34mC\u001b[30m\u001b[49m\u001b[34mC\u001b[30m\u001b[49m\u001b[32mA\u001b[30m\u001b[49m\u001b[33mG\u001b[30m\u001b[49m\u001b[33mG\u001b[30m\u001b[49m\u001b[47m \u001b[30m\u001b[49m\u001b[31mT\u001b[30m\u001b[49m\u001b[33mG\u001b[30m\u001b[49m\u001b[33mG\u001b[30m\u001b[49m\u001b[32mA\u001b[30m\u001b[49m\u001b[33mG\u001b[30m\u001b[49m\u001b[31mT\u001b[30m\u001b[49m\u001b[47m \u001b[30m\u001b[49m\u001b[33mG\u001b[30m\u001b[49m\u001b[34mC\u001b[30m\u001b[49m\u001b[47m \u001b[30m\u001b[49m\u001b[32mA\u001b[30m\u001b[49m\u001b[33mG\u001b[30m\u001b[49m\u001b[47m \u001b[30m\u001b[49m\u001b[31mT\u001b[30m\u001b[49m\u001b[33mG\u001b[30m\u001b[49m\u001b[33mG\u001b[30m\u001b[49m\u001b[33mG\u001b[30m\u001b[49m\u001b[34mC\u001b[30m\u001b[49m\u001b[33mG\u001b[30m\u001b[49m\u001b[34mC\u001b[30m\u001b[49m\u001b[47m \u001b[30m\u001b[49m\u001b[33mG\u001b[30m\u001b[49m\u001b[47m \u001b[30m\u001b[49m\u001b[33mG\u001b[30m\u001b[49m\u001b[47m \u001b[30m\u001b[49m\u001b[34mC\u001b[30m\u001b[49m\u001b[31mT\u001b[30m\u001b[49m\u001b[34mC\u001b[30m\u001b[49m\u001b[32mA\u001b[30m\u001b[49m\u001b[33mG\u001b[30m\u001b[49m\u001b[34mC\u001b[30m\u001b[49m\u001b[47m \u001b[30m\u001b[49m\u001b[31mT\u001b[30m\u001b[49m\u001b[34mC\u001b[30m\u001b[49m\u001b[32mA\u001b[30m\u001b[49m\u001b[34mC\u001b[30m\u001b[49m\u001b[31mT\u001b[30m\u001b[49m\u001b[33mG\u001b[30m\u001b[49m\u001b[34mC\u001b[30m\u001b[49m\u001b[47m \u001b[30m\u001b[49m\u001b[47m \u001b[30m\u001b[49m\u001b[32mA\u001b[30m\u001b[49m\u001b[32mA\u001b[30m\u001b[49m\u001b[47m \u001b[30m\u001b[49m\u001b[47m \u001b[30m\u001b[49m\u001b[47m \u001b[30m\u001b[49m\u001b[47m \u001b[30m\u001b[49m\u001b[47m \u001b[30m\u001b[49m\u001b[47m \u001b[30m\u001b[49m\u001b[34mC\u001b[30m\u001b[49m\u001b[31mT\u001b[30m\u001b[49m\u001b[47m \u001b[30m\u001b[49m\u001b[34mC\u001b[30m\u001b[49m\u001b[33mG\u001b[30m\u001b[49m\u001b[34mC\u001b[30m\u001b[49m\u001b[47m \u001b[30m\u001b[49m\u001b[34mC\u001b[30m\u001b[49m\u001b[34mC\u001b[30m\u001b[49m\u001b[31mT\u001b[30m\u001b[49m\u001b[47m \u001b[30m\u001b[49m\u001b[34mC\u001b[30m\u001b[49m\u001b[34mC\u001b[30m\u001b[49m\u001b[33mG\u001b[30m\u001b[49m\u001b[32mA\u001b[30m\u001b[49m\u001b[33mG\u001b[30m\u001b[49m\u001b[31mT\u001b[30m\u001b[49m\u001b[31mT\u001b[30m\u001b[49m\u001b[34mC\u001b[30m\u001b[49m\u001b[47m \u001b[30m\u001b[49m\u001b[47m \u001b[30m\u001b[49m\u001b[32mA\u001b[30m\u001b[49m\u001b[32mA\u001b[30m\u001b[49m\u001b[33mG\u001b[30m\u001b[49m\u001b[34mC\u001b[30m\u001b[49m\n",
            "Subread 5\t \u001b[31mT\u001b[30m\u001b[49m\u001b[33mG\u001b[30m\u001b[49m\u001b[33mG\u001b[30m\u001b[49m\u001b[32mA\u001b[30m\u001b[49m\u001b[33mG\u001b[30m\u001b[49m\u001b[31mT\u001b[30m\u001b[49m\u001b[34mC\u001b[30m\u001b[49m\u001b[31mT\u001b[30m\u001b[49m\u001b[34mC\u001b[30m\u001b[49m\u001b[32mA\u001b[30m\u001b[49m\u001b[34mC\u001b[30m\u001b[49m\u001b[32mA\u001b[30m\u001b[49m\u001b[34mC\u001b[30m\u001b[49m\u001b[47m \u001b[30m\u001b[49m\u001b[33mG\u001b[30m\u001b[49m\u001b[31mT\u001b[30m\u001b[49m\u001b[47m \u001b[30m\u001b[49m\u001b[47m \u001b[30m\u001b[49m\u001b[34mC\u001b[30m\u001b[49m\u001b[33mG\u001b[30m\u001b[49m\u001b[34mC\u001b[30m\u001b[49m\u001b[34mC\u001b[30m\u001b[49m\u001b[32mA\u001b[30m\u001b[49m\u001b[33mG\u001b[30m\u001b[49m\u001b[33mG\u001b[30m\u001b[49m\u001b[34mC\u001b[30m\u001b[49m\u001b[31mT\u001b[30m\u001b[49m\u001b[33mG\u001b[30m\u001b[49m\u001b[33mG\u001b[30m\u001b[49m\u001b[32mA\u001b[30m\u001b[49m\u001b[33mG\u001b[30m\u001b[49m\u001b[31mT\u001b[30m\u001b[49m\u001b[47m \u001b[30m\u001b[49m\u001b[33mG\u001b[30m\u001b[49m\u001b[34mC\u001b[30m\u001b[49m\u001b[47m \u001b[30m\u001b[49m\u001b[32mA\u001b[30m\u001b[49m\u001b[33mG\u001b[30m\u001b[49m\u001b[47m \u001b[30m\u001b[49m\u001b[47m \u001b[30m\u001b[49m\u001b[47m \u001b[30m\u001b[49m\u001b[33mG\u001b[30m\u001b[49m\u001b[33mG\u001b[30m\u001b[49m\u001b[34mC\u001b[30m\u001b[49m\u001b[33mG\u001b[30m\u001b[49m\u001b[34mC\u001b[30m\u001b[49m\u001b[33mG\u001b[30m\u001b[49m\u001b[33mG\u001b[30m\u001b[49m\u001b[32mA\u001b[30m\u001b[49m\u001b[33mG\u001b[30m\u001b[49m\u001b[47m \u001b[30m\u001b[49m\u001b[34mC\u001b[30m\u001b[49m\u001b[31mT\u001b[30m\u001b[49m\u001b[34mC\u001b[30m\u001b[49m\u001b[32mA\u001b[30m\u001b[49m\u001b[33mG\u001b[30m\u001b[49m\u001b[34mC\u001b[30m\u001b[49m\u001b[33mG\u001b[30m\u001b[49m\u001b[31mT\u001b[30m\u001b[49m\u001b[34mC\u001b[30m\u001b[49m\u001b[32mA\u001b[30m\u001b[49m\u001b[34mC\u001b[30m\u001b[49m\u001b[31mT\u001b[30m\u001b[49m\u001b[33mG\u001b[30m\u001b[49m\u001b[34mC\u001b[30m\u001b[49m\u001b[47m \u001b[30m\u001b[49m\u001b[47m \u001b[30m\u001b[49m\u001b[32mA\u001b[30m\u001b[49m\u001b[32mA\u001b[30m\u001b[49m\u001b[47m \u001b[30m\u001b[49m\u001b[47m \u001b[30m\u001b[49m\u001b[47m \u001b[30m\u001b[49m\u001b[47m \u001b[30m\u001b[49m\u001b[47m \u001b[30m\u001b[49m\u001b[34mC\u001b[30m\u001b[49m\u001b[34mC\u001b[30m\u001b[49m\u001b[31mT\u001b[30m\u001b[49m\u001b[34mC\u001b[30m\u001b[49m\u001b[34mC\u001b[30m\u001b[49m\u001b[33mG\u001b[30m\u001b[49m\u001b[34mC\u001b[30m\u001b[49m\u001b[47m \u001b[30m\u001b[49m\u001b[34mC\u001b[30m\u001b[49m\u001b[34mC\u001b[30m\u001b[49m\u001b[31mT\u001b[30m\u001b[49m\u001b[47m \u001b[30m\u001b[49m\u001b[34mC\u001b[30m\u001b[49m\u001b[34mC\u001b[30m\u001b[49m\u001b[33mG\u001b[30m\u001b[49m\u001b[32mA\u001b[30m\u001b[49m\u001b[33mG\u001b[30m\u001b[49m\u001b[31mT\u001b[30m\u001b[49m\u001b[31mT\u001b[30m\u001b[49m\u001b[34mC\u001b[30m\u001b[49m\u001b[47m \u001b[30m\u001b[49m\u001b[47m \u001b[30m\u001b[49m\u001b[32mA\u001b[30m\u001b[49m\u001b[32mA\u001b[30m\u001b[49m\u001b[33mG\u001b[30m\u001b[49m\u001b[34mC\u001b[30m\u001b[49m\n",
            "Subread 6\t \u001b[31mT\u001b[30m\u001b[49m\u001b[33mG\u001b[30m\u001b[49m\u001b[33mG\u001b[30m\u001b[49m\u001b[32mA\u001b[30m\u001b[49m\u001b[33mG\u001b[30m\u001b[49m\u001b[31mT\u001b[30m\u001b[49m\u001b[34mC\u001b[30m\u001b[49m\u001b[31mT\u001b[30m\u001b[49m\u001b[34mC\u001b[30m\u001b[49m\u001b[32mA\u001b[30m\u001b[49m\u001b[34mC\u001b[30m\u001b[49m\u001b[32mA\u001b[30m\u001b[49m\u001b[34mC\u001b[30m\u001b[49m\u001b[31mT\u001b[30m\u001b[49m\u001b[33mG\u001b[30m\u001b[49m\u001b[31mT\u001b[30m\u001b[49m\u001b[47m \u001b[30m\u001b[49m\u001b[47m \u001b[30m\u001b[49m\u001b[34mC\u001b[30m\u001b[49m\u001b[33mG\u001b[30m\u001b[49m\u001b[34mC\u001b[30m\u001b[49m\u001b[34mC\u001b[30m\u001b[49m\u001b[32mA\u001b[30m\u001b[49m\u001b[33mG\u001b[30m\u001b[49m\u001b[33mG\u001b[30m\u001b[49m\u001b[34mC\u001b[30m\u001b[49m\u001b[31mT\u001b[30m\u001b[49m\u001b[33mG\u001b[30m\u001b[49m\u001b[33mG\u001b[30m\u001b[49m\u001b[32mA\u001b[30m\u001b[49m\u001b[33mG\u001b[30m\u001b[49m\u001b[31mT\u001b[30m\u001b[49m\u001b[33mG\u001b[30m\u001b[49m\u001b[33mG\u001b[30m\u001b[49m\u001b[34mC\u001b[30m\u001b[49m\u001b[47m \u001b[30m\u001b[49m\u001b[32mA\u001b[30m\u001b[49m\u001b[33mG\u001b[30m\u001b[49m\u001b[47m \u001b[30m\u001b[49m\u001b[31mT\u001b[30m\u001b[49m\u001b[33mG\u001b[30m\u001b[49m\u001b[33mG\u001b[30m\u001b[49m\u001b[33mG\u001b[30m\u001b[49m\u001b[34mC\u001b[30m\u001b[49m\u001b[33mG\u001b[30m\u001b[49m\u001b[34mC\u001b[30m\u001b[49m\u001b[47m \u001b[30m\u001b[49m\u001b[33mG\u001b[30m\u001b[49m\u001b[47m \u001b[30m\u001b[49m\u001b[33mG\u001b[30m\u001b[49m\u001b[47m \u001b[30m\u001b[49m\u001b[34mC\u001b[30m\u001b[49m\u001b[31mT\u001b[30m\u001b[49m\u001b[34mC\u001b[30m\u001b[49m\u001b[32mA\u001b[30m\u001b[49m\u001b[33mG\u001b[30m\u001b[49m\u001b[34mC\u001b[30m\u001b[49m\u001b[47m \u001b[30m\u001b[49m\u001b[31mT\u001b[30m\u001b[49m\u001b[34mC\u001b[30m\u001b[49m\u001b[32mA\u001b[30m\u001b[49m\u001b[34mC\u001b[30m\u001b[49m\u001b[31mT\u001b[30m\u001b[49m\u001b[33mG\u001b[30m\u001b[49m\u001b[34mC\u001b[30m\u001b[49m\u001b[32mA\u001b[30m\u001b[49m\u001b[47m \u001b[30m\u001b[49m\u001b[32mA\u001b[30m\u001b[49m\u001b[32mA\u001b[30m\u001b[49m\u001b[47m \u001b[30m\u001b[49m\u001b[47m \u001b[30m\u001b[49m\u001b[47m \u001b[30m\u001b[49m\u001b[47m \u001b[30m\u001b[49m\u001b[47m \u001b[30m\u001b[49m\u001b[34mC\u001b[30m\u001b[49m\u001b[34mC\u001b[30m\u001b[49m\u001b[31mT\u001b[30m\u001b[49m\u001b[34mC\u001b[30m\u001b[49m\u001b[34mC\u001b[30m\u001b[49m\u001b[33mG\u001b[30m\u001b[49m\u001b[34mC\u001b[30m\u001b[49m\u001b[32mA\u001b[30m\u001b[49m\u001b[34mC\u001b[30m\u001b[49m\u001b[34mC\u001b[30m\u001b[49m\u001b[31mT\u001b[30m\u001b[49m\u001b[47m \u001b[30m\u001b[49m\u001b[34mC\u001b[30m\u001b[49m\u001b[34mC\u001b[30m\u001b[49m\u001b[33mG\u001b[30m\u001b[49m\u001b[32mA\u001b[30m\u001b[49m\u001b[33mG\u001b[30m\u001b[49m\u001b[31mT\u001b[30m\u001b[49m\u001b[31mT\u001b[30m\u001b[49m\u001b[34mC\u001b[30m\u001b[49m\u001b[47m \u001b[30m\u001b[49m\u001b[47m \u001b[30m\u001b[49m\u001b[32mA\u001b[30m\u001b[49m\u001b[32mA\u001b[30m\u001b[49m\u001b[33mG\u001b[30m\u001b[49m\u001b[34mC\u001b[30m\u001b[49m\n",
            "Subread 7\t \u001b[31mT\u001b[30m\u001b[49m\u001b[33mG\u001b[30m\u001b[49m\u001b[33mG\u001b[30m\u001b[49m\u001b[32mA\u001b[30m\u001b[49m\u001b[33mG\u001b[30m\u001b[49m\u001b[31mT\u001b[30m\u001b[49m\u001b[34mC\u001b[30m\u001b[49m\u001b[31mT\u001b[30m\u001b[49m\u001b[34mC\u001b[30m\u001b[49m\u001b[32mA\u001b[30m\u001b[49m\u001b[34mC\u001b[30m\u001b[49m\u001b[32mA\u001b[30m\u001b[49m\u001b[34mC\u001b[30m\u001b[49m\u001b[31mT\u001b[30m\u001b[49m\u001b[33mG\u001b[30m\u001b[49m\u001b[32mA\u001b[30m\u001b[49m\u001b[47m \u001b[30m\u001b[49m\u001b[47m \u001b[30m\u001b[49m\u001b[34mC\u001b[30m\u001b[49m\u001b[33mG\u001b[30m\u001b[49m\u001b[34mC\u001b[30m\u001b[49m\u001b[34mC\u001b[30m\u001b[49m\u001b[32mA\u001b[30m\u001b[49m\u001b[31mT\u001b[30m\u001b[49m\u001b[32mA\u001b[30m\u001b[49m\u001b[34mC\u001b[30m\u001b[49m\u001b[31mT\u001b[30m\u001b[49m\u001b[33mG\u001b[30m\u001b[49m\u001b[33mG\u001b[30m\u001b[49m\u001b[32mA\u001b[30m\u001b[49m\u001b[33mG\u001b[30m\u001b[49m\u001b[31mT\u001b[30m\u001b[49m\u001b[47m \u001b[30m\u001b[49m\u001b[33mG\u001b[30m\u001b[49m\u001b[34mC\u001b[30m\u001b[49m\u001b[47m \u001b[30m\u001b[49m\u001b[32mA\u001b[30m\u001b[49m\u001b[33mG\u001b[30m\u001b[49m\u001b[47m \u001b[30m\u001b[49m\u001b[31mT\u001b[30m\u001b[49m\u001b[47m \u001b[30m\u001b[49m\u001b[33mG\u001b[30m\u001b[49m\u001b[33mG\u001b[30m\u001b[49m\u001b[34mC\u001b[30m\u001b[49m\u001b[33mG\u001b[30m\u001b[49m\u001b[34mC\u001b[30m\u001b[49m\u001b[47m \u001b[30m\u001b[49m\u001b[33mG\u001b[30m\u001b[49m\u001b[32mA\u001b[30m\u001b[49m\u001b[33mG\u001b[30m\u001b[49m\u001b[47m \u001b[30m\u001b[49m\u001b[34mC\u001b[30m\u001b[49m\u001b[31mT\u001b[30m\u001b[49m\u001b[34mC\u001b[30m\u001b[49m\u001b[32mA\u001b[30m\u001b[49m\u001b[33mG\u001b[30m\u001b[49m\u001b[34mC\u001b[30m\u001b[49m\u001b[47m \u001b[30m\u001b[49m\u001b[31mT\u001b[30m\u001b[49m\u001b[34mC\u001b[30m\u001b[49m\u001b[32mA\u001b[30m\u001b[49m\u001b[34mC\u001b[30m\u001b[49m\u001b[31mT\u001b[30m\u001b[49m\u001b[33mG\u001b[30m\u001b[49m\u001b[34mC\u001b[30m\u001b[49m\u001b[32mA\u001b[30m\u001b[49m\u001b[32mA\u001b[30m\u001b[49m\u001b[32mA\u001b[30m\u001b[49m\u001b[32mA\u001b[30m\u001b[49m\u001b[47m \u001b[30m\u001b[49m\u001b[47m \u001b[30m\u001b[49m\u001b[47m \u001b[30m\u001b[49m\u001b[47m \u001b[30m\u001b[49m\u001b[47m \u001b[30m\u001b[49m\u001b[34mC\u001b[30m\u001b[49m\u001b[34mC\u001b[30m\u001b[49m\u001b[31mT\u001b[30m\u001b[49m\u001b[34mC\u001b[30m\u001b[49m\u001b[34mC\u001b[30m\u001b[49m\u001b[33mG\u001b[30m\u001b[49m\u001b[34mC\u001b[30m\u001b[49m\u001b[47m \u001b[30m\u001b[49m\u001b[34mC\u001b[30m\u001b[49m\u001b[34mC\u001b[30m\u001b[49m\u001b[31mT\u001b[30m\u001b[49m\u001b[47m \u001b[30m\u001b[49m\u001b[34mC\u001b[30m\u001b[49m\u001b[34mC\u001b[30m\u001b[49m\u001b[33mG\u001b[30m\u001b[49m\u001b[32mA\u001b[30m\u001b[49m\u001b[31mT\u001b[30m\u001b[49m\u001b[31mT\u001b[30m\u001b[49m\u001b[31mT\u001b[30m\u001b[49m\u001b[34mC\u001b[30m\u001b[49m\u001b[47m \u001b[30m\u001b[49m\u001b[47m \u001b[30m\u001b[49m\u001b[32mA\u001b[30m\u001b[49m\u001b[32mA\u001b[30m\u001b[49m\u001b[33mG\u001b[30m\u001b[49m\u001b[34mC\u001b[30m\u001b[49m\n",
            "Subread 8\t \u001b[31mT\u001b[30m\u001b[49m\u001b[33mG\u001b[30m\u001b[49m\u001b[33mG\u001b[30m\u001b[49m\u001b[32mA\u001b[30m\u001b[49m\u001b[33mG\u001b[30m\u001b[49m\u001b[31mT\u001b[30m\u001b[49m\u001b[34mC\u001b[30m\u001b[49m\u001b[31mT\u001b[30m\u001b[49m\u001b[34mC\u001b[30m\u001b[49m\u001b[32mA\u001b[30m\u001b[49m\u001b[34mC\u001b[30m\u001b[49m\u001b[32mA\u001b[30m\u001b[49m\u001b[34mC\u001b[30m\u001b[49m\u001b[31mT\u001b[30m\u001b[49m\u001b[33mG\u001b[30m\u001b[49m\u001b[31mT\u001b[30m\u001b[49m\u001b[47m \u001b[30m\u001b[49m\u001b[47m \u001b[30m\u001b[49m\u001b[34mC\u001b[30m\u001b[49m\u001b[33mG\u001b[30m\u001b[49m\u001b[47m \u001b[30m\u001b[49m\u001b[34mC\u001b[30m\u001b[49m\u001b[32mA\u001b[30m\u001b[49m\u001b[33mG\u001b[30m\u001b[49m\u001b[33mG\u001b[30m\u001b[49m\u001b[34mC\u001b[30m\u001b[49m\u001b[31mT\u001b[30m\u001b[49m\u001b[33mG\u001b[30m\u001b[49m\u001b[33mG\u001b[30m\u001b[49m\u001b[32mA\u001b[30m\u001b[49m\u001b[33mG\u001b[30m\u001b[49m\u001b[47m \u001b[30m\u001b[49m\u001b[47m \u001b[30m\u001b[49m\u001b[33mG\u001b[30m\u001b[49m\u001b[34mC\u001b[30m\u001b[49m\u001b[47m \u001b[30m\u001b[49m\u001b[32mA\u001b[30m\u001b[49m\u001b[33mG\u001b[30m\u001b[49m\u001b[47m \u001b[30m\u001b[49m\u001b[31mT\u001b[30m\u001b[49m\u001b[47m \u001b[30m\u001b[49m\u001b[33mG\u001b[30m\u001b[49m\u001b[33mG\u001b[30m\u001b[49m\u001b[34mC\u001b[30m\u001b[49m\u001b[33mG\u001b[30m\u001b[49m\u001b[34mC\u001b[30m\u001b[49m\u001b[47m \u001b[30m\u001b[49m\u001b[33mG\u001b[30m\u001b[49m\u001b[32mA\u001b[30m\u001b[49m\u001b[33mG\u001b[30m\u001b[49m\u001b[47m \u001b[30m\u001b[49m\u001b[34mC\u001b[30m\u001b[49m\u001b[31mT\u001b[30m\u001b[49m\u001b[34mC\u001b[30m\u001b[49m\u001b[32mA\u001b[30m\u001b[49m\u001b[33mG\u001b[30m\u001b[49m\u001b[34mC\u001b[30m\u001b[49m\u001b[47m \u001b[30m\u001b[49m\u001b[31mT\u001b[30m\u001b[49m\u001b[34mC\u001b[30m\u001b[49m\u001b[32mA\u001b[30m\u001b[49m\u001b[34mC\u001b[30m\u001b[49m\u001b[31mT\u001b[30m\u001b[49m\u001b[33mG\u001b[30m\u001b[49m\u001b[34mC\u001b[30m\u001b[49m\u001b[47m \u001b[30m\u001b[49m\u001b[47m \u001b[30m\u001b[49m\u001b[32mA\u001b[30m\u001b[49m\u001b[32mA\u001b[30m\u001b[49m\u001b[47m \u001b[30m\u001b[49m\u001b[47m \u001b[30m\u001b[49m\u001b[47m \u001b[30m\u001b[49m\u001b[47m \u001b[30m\u001b[49m\u001b[47m \u001b[30m\u001b[49m\u001b[34mC\u001b[30m\u001b[49m\u001b[34mC\u001b[30m\u001b[49m\u001b[31mT\u001b[30m\u001b[49m\u001b[47m \u001b[30m\u001b[49m\u001b[34mC\u001b[30m\u001b[49m\u001b[33mG\u001b[30m\u001b[49m\u001b[34mC\u001b[30m\u001b[49m\u001b[47m \u001b[30m\u001b[49m\u001b[34mC\u001b[30m\u001b[49m\u001b[31mT\u001b[30m\u001b[49m\u001b[32mA\u001b[30m\u001b[49m\u001b[47m \u001b[30m\u001b[49m\u001b[34mC\u001b[30m\u001b[49m\u001b[34mC\u001b[30m\u001b[49m\u001b[33mG\u001b[30m\u001b[49m\u001b[47m \u001b[30m\u001b[49m\u001b[33mG\u001b[30m\u001b[49m\u001b[31mT\u001b[30m\u001b[49m\u001b[31mT\u001b[30m\u001b[49m\u001b[34mC\u001b[30m\u001b[49m\u001b[47m \u001b[30m\u001b[49m\u001b[47m \u001b[30m\u001b[49m\u001b[47m \u001b[30m\u001b[49m\u001b[32mA\u001b[30m\u001b[49m\u001b[33mG\u001b[30m\u001b[49m\u001b[34mC\u001b[30m\u001b[49m\n",
            "Subread 9\t \u001b[31mT\u001b[30m\u001b[49m\u001b[33mG\u001b[30m\u001b[49m\u001b[33mG\u001b[30m\u001b[49m\u001b[32mA\u001b[30m\u001b[49m\u001b[33mG\u001b[30m\u001b[49m\u001b[31mT\u001b[30m\u001b[49m\u001b[34mC\u001b[30m\u001b[49m\u001b[31mT\u001b[30m\u001b[49m\u001b[34mC\u001b[30m\u001b[49m\u001b[32mA\u001b[30m\u001b[49m\u001b[34mC\u001b[30m\u001b[49m\u001b[32mA\u001b[30m\u001b[49m\u001b[34mC\u001b[30m\u001b[49m\u001b[31mT\u001b[30m\u001b[49m\u001b[33mG\u001b[30m\u001b[49m\u001b[31mT\u001b[30m\u001b[49m\u001b[34mC\u001b[30m\u001b[49m\u001b[34mC\u001b[30m\u001b[49m\u001b[34mC\u001b[30m\u001b[49m\u001b[33mG\u001b[30m\u001b[49m\u001b[34mC\u001b[30m\u001b[49m\u001b[34mC\u001b[30m\u001b[49m\u001b[32mA\u001b[30m\u001b[49m\u001b[33mG\u001b[30m\u001b[49m\u001b[33mG\u001b[30m\u001b[49m\u001b[34mC\u001b[30m\u001b[49m\u001b[31mT\u001b[30m\u001b[49m\u001b[33mG\u001b[30m\u001b[49m\u001b[33mG\u001b[30m\u001b[49m\u001b[32mA\u001b[30m\u001b[49m\u001b[33mG\u001b[30m\u001b[49m\u001b[31mT\u001b[30m\u001b[49m\u001b[47m \u001b[30m\u001b[49m\u001b[33mG\u001b[30m\u001b[49m\u001b[34mC\u001b[30m\u001b[49m\u001b[47m \u001b[30m\u001b[49m\u001b[32mA\u001b[30m\u001b[49m\u001b[33mG\u001b[30m\u001b[49m\u001b[47m \u001b[30m\u001b[49m\u001b[31mT\u001b[30m\u001b[49m\u001b[47m \u001b[30m\u001b[49m\u001b[33mG\u001b[30m\u001b[49m\u001b[33mG\u001b[30m\u001b[49m\u001b[34mC\u001b[30m\u001b[49m\u001b[33mG\u001b[30m\u001b[49m\u001b[34mC\u001b[30m\u001b[49m\u001b[47m \u001b[30m\u001b[49m\u001b[33mG\u001b[30m\u001b[49m\u001b[32mA\u001b[30m\u001b[49m\u001b[33mG\u001b[30m\u001b[49m\u001b[47m \u001b[30m\u001b[49m\u001b[34mC\u001b[30m\u001b[49m\u001b[31mT\u001b[30m\u001b[49m\u001b[34mC\u001b[30m\u001b[49m\u001b[32mA\u001b[30m\u001b[49m\u001b[47m \u001b[30m\u001b[49m\u001b[34mC\u001b[30m\u001b[49m\u001b[47m \u001b[30m\u001b[49m\u001b[31mT\u001b[30m\u001b[49m\u001b[34mC\u001b[30m\u001b[49m\u001b[32mA\u001b[30m\u001b[49m\u001b[34mC\u001b[30m\u001b[49m\u001b[31mT\u001b[30m\u001b[49m\u001b[33mG\u001b[30m\u001b[49m\u001b[34mC\u001b[30m\u001b[49m\u001b[47m \u001b[30m\u001b[49m\u001b[47m \u001b[30m\u001b[49m\u001b[32mA\u001b[30m\u001b[49m\u001b[32mA\u001b[30m\u001b[49m\u001b[33mG\u001b[30m\u001b[49m\u001b[34mC\u001b[30m\u001b[49m\u001b[32mA\u001b[30m\u001b[49m\u001b[32mA\u001b[30m\u001b[49m\u001b[34mC\u001b[30m\u001b[49m\u001b[34mC\u001b[30m\u001b[49m\u001b[34mC\u001b[30m\u001b[49m\u001b[31mT\u001b[30m\u001b[49m\u001b[34mC\u001b[30m\u001b[49m\u001b[34mC\u001b[30m\u001b[49m\u001b[33mG\u001b[30m\u001b[49m\u001b[34mC\u001b[30m\u001b[49m\u001b[47m \u001b[30m\u001b[49m\u001b[34mC\u001b[30m\u001b[49m\u001b[34mC\u001b[30m\u001b[49m\u001b[31mT\u001b[30m\u001b[49m\u001b[34mC\u001b[30m\u001b[49m\u001b[34mC\u001b[30m\u001b[49m\u001b[34mC\u001b[30m\u001b[49m\u001b[33mG\u001b[30m\u001b[49m\u001b[32mA\u001b[30m\u001b[49m\u001b[33mG\u001b[30m\u001b[49m\u001b[31mT\u001b[30m\u001b[49m\u001b[31mT\u001b[30m\u001b[49m\u001b[34mC\u001b[30m\u001b[49m\u001b[47m \u001b[30m\u001b[49m\u001b[47m \u001b[30m\u001b[49m\u001b[32mA\u001b[30m\u001b[49m\u001b[32mA\u001b[30m\u001b[49m\u001b[33mG\u001b[30m\u001b[49m\u001b[34mC\u001b[30m\u001b[49m\n",
            "Subread 10\t \u001b[31mT\u001b[30m\u001b[49m\u001b[33mG\u001b[30m\u001b[49m\u001b[33mG\u001b[30m\u001b[49m\u001b[32mA\u001b[30m\u001b[49m\u001b[33mG\u001b[30m\u001b[49m\u001b[31mT\u001b[30m\u001b[49m\u001b[34mC\u001b[30m\u001b[49m\u001b[31mT\u001b[30m\u001b[49m\u001b[34mC\u001b[30m\u001b[49m\u001b[32mA\u001b[30m\u001b[49m\u001b[34mC\u001b[30m\u001b[49m\u001b[32mA\u001b[30m\u001b[49m\u001b[34mC\u001b[30m\u001b[49m\u001b[31mT\u001b[30m\u001b[49m\u001b[33mG\u001b[30m\u001b[49m\u001b[31mT\u001b[30m\u001b[49m\u001b[47m \u001b[30m\u001b[49m\u001b[47m \u001b[30m\u001b[49m\u001b[34mC\u001b[30m\u001b[49m\u001b[33mG\u001b[30m\u001b[49m\u001b[34mC\u001b[30m\u001b[49m\u001b[34mC\u001b[30m\u001b[49m\u001b[32mA\u001b[30m\u001b[49m\u001b[33mG\u001b[30m\u001b[49m\u001b[33mG\u001b[30m\u001b[49m\u001b[34mC\u001b[30m\u001b[49m\u001b[31mT\u001b[30m\u001b[49m\u001b[33mG\u001b[30m\u001b[49m\u001b[33mG\u001b[30m\u001b[49m\u001b[32mA\u001b[30m\u001b[49m\u001b[33mG\u001b[30m\u001b[49m\u001b[31mT\u001b[30m\u001b[49m\u001b[47m \u001b[30m\u001b[49m\u001b[33mG\u001b[30m\u001b[49m\u001b[34mC\u001b[30m\u001b[49m\u001b[32mA\u001b[30m\u001b[49m\u001b[32mA\u001b[30m\u001b[49m\u001b[33mG\u001b[30m\u001b[49m\u001b[31mT\u001b[30m\u001b[49m\u001b[31mT\u001b[30m\u001b[49m\u001b[47m \u001b[30m\u001b[49m\u001b[33mG\u001b[30m\u001b[49m\u001b[33mG\u001b[30m\u001b[49m\u001b[34mC\u001b[30m\u001b[49m\u001b[33mG\u001b[30m\u001b[49m\u001b[34mC\u001b[30m\u001b[49m\u001b[47m \u001b[30m\u001b[49m\u001b[33mG\u001b[30m\u001b[49m\u001b[32mA\u001b[30m\u001b[49m\u001b[33mG\u001b[30m\u001b[49m\u001b[47m \u001b[30m\u001b[49m\u001b[34mC\u001b[30m\u001b[49m\u001b[31mT\u001b[30m\u001b[49m\u001b[34mC\u001b[30m\u001b[49m\u001b[32mA\u001b[30m\u001b[49m\u001b[33mG\u001b[30m\u001b[49m\u001b[34mC\u001b[30m\u001b[49m\u001b[47m \u001b[30m\u001b[49m\u001b[31mT\u001b[30m\u001b[49m\u001b[34mC\u001b[30m\u001b[49m\u001b[32mA\u001b[30m\u001b[49m\u001b[34mC\u001b[30m\u001b[49m\u001b[31mT\u001b[30m\u001b[49m\u001b[33mG\u001b[30m\u001b[49m\u001b[34mC\u001b[30m\u001b[49m\u001b[47m \u001b[30m\u001b[49m\u001b[47m \u001b[30m\u001b[49m\u001b[32mA\u001b[30m\u001b[49m\u001b[32mA\u001b[30m\u001b[49m\u001b[47m \u001b[30m\u001b[49m\u001b[47m \u001b[30m\u001b[49m\u001b[47m \u001b[30m\u001b[49m\u001b[47m \u001b[30m\u001b[49m\u001b[47m \u001b[30m\u001b[49m\u001b[34mC\u001b[30m\u001b[49m\u001b[34mC\u001b[30m\u001b[49m\u001b[31mT\u001b[30m\u001b[49m\u001b[34mC\u001b[30m\u001b[49m\u001b[34mC\u001b[30m\u001b[49m\u001b[33mG\u001b[30m\u001b[49m\u001b[32mA\u001b[30m\u001b[49m\u001b[47m \u001b[30m\u001b[49m\u001b[34mC\u001b[30m\u001b[49m\u001b[34mC\u001b[30m\u001b[49m\u001b[31mT\u001b[30m\u001b[49m\u001b[47m \u001b[30m\u001b[49m\u001b[34mC\u001b[30m\u001b[49m\u001b[34mC\u001b[30m\u001b[49m\u001b[33mG\u001b[30m\u001b[49m\u001b[32mA\u001b[30m\u001b[49m\u001b[33mG\u001b[30m\u001b[49m\u001b[31mT\u001b[30m\u001b[49m\u001b[31mT\u001b[30m\u001b[49m\u001b[34mC\u001b[30m\u001b[49m\u001b[32mA\u001b[30m\u001b[49m\u001b[32mA\u001b[30m\u001b[49m\u001b[32mA\u001b[30m\u001b[49m\u001b[32mA\u001b[30m\u001b[49m\u001b[33mG\u001b[30m\u001b[49m\u001b[32mA\u001b[30m\u001b[49m\n",
            "Subread 11\t \u001b[47m \u001b[30m\u001b[49m\u001b[47m \u001b[30m\u001b[49m\u001b[47m \u001b[30m\u001b[49m\u001b[47m \u001b[30m\u001b[49m\u001b[47m \u001b[30m\u001b[49m\u001b[47m \u001b[30m\u001b[49m\u001b[47m \u001b[30m\u001b[49m\u001b[47m \u001b[30m\u001b[49m\u001b[47m \u001b[30m\u001b[49m\u001b[47m \u001b[30m\u001b[49m\u001b[47m \u001b[30m\u001b[49m\u001b[47m \u001b[30m\u001b[49m\u001b[47m \u001b[30m\u001b[49m\u001b[47m \u001b[30m\u001b[49m\u001b[47m \u001b[30m\u001b[49m\u001b[47m \u001b[30m\u001b[49m\u001b[47m \u001b[30m\u001b[49m\u001b[47m \u001b[30m\u001b[49m\u001b[47m \u001b[30m\u001b[49m\u001b[47m \u001b[30m\u001b[49m\u001b[47m \u001b[30m\u001b[49m\u001b[47m \u001b[30m\u001b[49m\u001b[47m \u001b[30m\u001b[49m\u001b[47m \u001b[30m\u001b[49m\u001b[47m \u001b[30m\u001b[49m\u001b[47m \u001b[30m\u001b[49m\u001b[47m \u001b[30m\u001b[49m\u001b[47m \u001b[30m\u001b[49m\u001b[47m \u001b[30m\u001b[49m\u001b[47m \u001b[30m\u001b[49m\u001b[47m \u001b[30m\u001b[49m\u001b[47m \u001b[30m\u001b[49m\u001b[47m \u001b[30m\u001b[49m\u001b[47m \u001b[30m\u001b[49m\u001b[47m \u001b[30m\u001b[49m\u001b[47m \u001b[30m\u001b[49m\u001b[47m \u001b[30m\u001b[49m\u001b[47m \u001b[30m\u001b[49m\u001b[47m \u001b[30m\u001b[49m\u001b[47m \u001b[30m\u001b[49m\u001b[47m \u001b[30m\u001b[49m\u001b[47m \u001b[30m\u001b[49m\u001b[47m \u001b[30m\u001b[49m\u001b[47m \u001b[30m\u001b[49m\u001b[47m \u001b[30m\u001b[49m\u001b[47m \u001b[30m\u001b[49m\u001b[47m \u001b[30m\u001b[49m\u001b[47m \u001b[30m\u001b[49m\u001b[47m \u001b[30m\u001b[49m\u001b[47m \u001b[30m\u001b[49m\u001b[47m \u001b[30m\u001b[49m\u001b[47m \u001b[30m\u001b[49m\u001b[47m \u001b[30m\u001b[49m\u001b[47m \u001b[30m\u001b[49m\u001b[47m \u001b[30m\u001b[49m\u001b[47m \u001b[30m\u001b[49m\u001b[47m \u001b[30m\u001b[49m\u001b[47m \u001b[30m\u001b[49m\u001b[47m \u001b[30m\u001b[49m\u001b[47m \u001b[30m\u001b[49m\u001b[47m \u001b[30m\u001b[49m\u001b[47m \u001b[30m\u001b[49m\u001b[47m \u001b[30m\u001b[49m\u001b[47m \u001b[30m\u001b[49m\u001b[47m \u001b[30m\u001b[49m\u001b[47m \u001b[30m\u001b[49m\u001b[47m \u001b[30m\u001b[49m\u001b[47m \u001b[30m\u001b[49m\u001b[47m \u001b[30m\u001b[49m\u001b[47m \u001b[30m\u001b[49m\u001b[47m \u001b[30m\u001b[49m\u001b[47m \u001b[30m\u001b[49m\u001b[47m \u001b[30m\u001b[49m\u001b[47m \u001b[30m\u001b[49m\u001b[47m \u001b[30m\u001b[49m\u001b[47m \u001b[30m\u001b[49m\u001b[47m \u001b[30m\u001b[49m\u001b[47m \u001b[30m\u001b[49m\u001b[47m \u001b[30m\u001b[49m\u001b[47m \u001b[30m\u001b[49m\u001b[47m \u001b[30m\u001b[49m\u001b[47m \u001b[30m\u001b[49m\u001b[47m \u001b[30m\u001b[49m\u001b[47m \u001b[30m\u001b[49m\u001b[47m \u001b[30m\u001b[49m\u001b[47m \u001b[30m\u001b[49m\u001b[47m \u001b[30m\u001b[49m\u001b[47m \u001b[30m\u001b[49m\u001b[47m \u001b[30m\u001b[49m\u001b[47m \u001b[30m\u001b[49m\u001b[47m \u001b[30m\u001b[49m\u001b[47m \u001b[30m\u001b[49m\u001b[47m \u001b[30m\u001b[49m\u001b[47m \u001b[30m\u001b[49m\u001b[47m \u001b[30m\u001b[49m\u001b[47m \u001b[30m\u001b[49m\u001b[47m \u001b[30m\u001b[49m\u001b[47m \u001b[30m\u001b[49m\u001b[47m \u001b[30m\u001b[49m\u001b[47m \u001b[30m\u001b[49m\n",
            "Subread 12\t \u001b[47m \u001b[30m\u001b[49m\u001b[47m \u001b[30m\u001b[49m\u001b[47m \u001b[30m\u001b[49m\u001b[47m \u001b[30m\u001b[49m\u001b[47m \u001b[30m\u001b[49m\u001b[47m \u001b[30m\u001b[49m\u001b[47m \u001b[30m\u001b[49m\u001b[47m \u001b[30m\u001b[49m\u001b[47m \u001b[30m\u001b[49m\u001b[47m \u001b[30m\u001b[49m\u001b[47m \u001b[30m\u001b[49m\u001b[47m \u001b[30m\u001b[49m\u001b[47m \u001b[30m\u001b[49m\u001b[47m \u001b[30m\u001b[49m\u001b[47m \u001b[30m\u001b[49m\u001b[47m \u001b[30m\u001b[49m\u001b[47m \u001b[30m\u001b[49m\u001b[47m \u001b[30m\u001b[49m\u001b[47m \u001b[30m\u001b[49m\u001b[47m \u001b[30m\u001b[49m\u001b[47m \u001b[30m\u001b[49m\u001b[47m \u001b[30m\u001b[49m\u001b[47m \u001b[30m\u001b[49m\u001b[47m \u001b[30m\u001b[49m\u001b[47m \u001b[30m\u001b[49m\u001b[47m \u001b[30m\u001b[49m\u001b[47m \u001b[30m\u001b[49m\u001b[47m \u001b[30m\u001b[49m\u001b[47m \u001b[30m\u001b[49m\u001b[47m \u001b[30m\u001b[49m\u001b[47m \u001b[30m\u001b[49m\u001b[47m \u001b[30m\u001b[49m\u001b[47m \u001b[30m\u001b[49m\u001b[47m \u001b[30m\u001b[49m\u001b[47m \u001b[30m\u001b[49m\u001b[47m \u001b[30m\u001b[49m\u001b[47m \u001b[30m\u001b[49m\u001b[47m \u001b[30m\u001b[49m\u001b[47m \u001b[30m\u001b[49m\u001b[47m \u001b[30m\u001b[49m\u001b[47m \u001b[30m\u001b[49m\u001b[47m \u001b[30m\u001b[49m\u001b[47m \u001b[30m\u001b[49m\u001b[47m \u001b[30m\u001b[49m\u001b[47m \u001b[30m\u001b[49m\u001b[47m \u001b[30m\u001b[49m\u001b[47m \u001b[30m\u001b[49m\u001b[47m \u001b[30m\u001b[49m\u001b[47m \u001b[30m\u001b[49m\u001b[47m \u001b[30m\u001b[49m\u001b[47m \u001b[30m\u001b[49m\u001b[47m \u001b[30m\u001b[49m\u001b[47m \u001b[30m\u001b[49m\u001b[47m \u001b[30m\u001b[49m\u001b[47m \u001b[30m\u001b[49m\u001b[47m \u001b[30m\u001b[49m\u001b[47m \u001b[30m\u001b[49m\u001b[47m \u001b[30m\u001b[49m\u001b[47m \u001b[30m\u001b[49m\u001b[47m \u001b[30m\u001b[49m\u001b[47m \u001b[30m\u001b[49m\u001b[47m \u001b[30m\u001b[49m\u001b[47m \u001b[30m\u001b[49m\u001b[47m \u001b[30m\u001b[49m\u001b[47m \u001b[30m\u001b[49m\u001b[47m \u001b[30m\u001b[49m\u001b[47m \u001b[30m\u001b[49m\u001b[47m \u001b[30m\u001b[49m\u001b[47m \u001b[30m\u001b[49m\u001b[47m \u001b[30m\u001b[49m\u001b[47m \u001b[30m\u001b[49m\u001b[47m \u001b[30m\u001b[49m\u001b[47m \u001b[30m\u001b[49m\u001b[47m \u001b[30m\u001b[49m\u001b[47m \u001b[30m\u001b[49m\u001b[47m \u001b[30m\u001b[49m\u001b[47m \u001b[30m\u001b[49m\u001b[47m \u001b[30m\u001b[49m\u001b[47m \u001b[30m\u001b[49m\u001b[47m \u001b[30m\u001b[49m\u001b[47m \u001b[30m\u001b[49m\u001b[47m \u001b[30m\u001b[49m\u001b[47m \u001b[30m\u001b[49m\u001b[47m \u001b[30m\u001b[49m\u001b[47m \u001b[30m\u001b[49m\u001b[47m \u001b[30m\u001b[49m\u001b[47m \u001b[30m\u001b[49m\u001b[47m \u001b[30m\u001b[49m\u001b[47m \u001b[30m\u001b[49m\u001b[47m \u001b[30m\u001b[49m\u001b[47m \u001b[30m\u001b[49m\u001b[47m \u001b[30m\u001b[49m\u001b[47m \u001b[30m\u001b[49m\u001b[47m \u001b[30m\u001b[49m\u001b[47m \u001b[30m\u001b[49m\u001b[47m \u001b[30m\u001b[49m\u001b[47m \u001b[30m\u001b[49m\u001b[47m \u001b[30m\u001b[49m\u001b[47m \u001b[30m\u001b[49m\u001b[47m \u001b[30m\u001b[49m\n",
            "Subread 13\t \u001b[47m \u001b[30m\u001b[49m\u001b[47m \u001b[30m\u001b[49m\u001b[47m \u001b[30m\u001b[49m\u001b[47m \u001b[30m\u001b[49m\u001b[47m \u001b[30m\u001b[49m\u001b[47m \u001b[30m\u001b[49m\u001b[47m \u001b[30m\u001b[49m\u001b[47m \u001b[30m\u001b[49m\u001b[47m \u001b[30m\u001b[49m\u001b[47m \u001b[30m\u001b[49m\u001b[47m \u001b[30m\u001b[49m\u001b[47m \u001b[30m\u001b[49m\u001b[47m \u001b[30m\u001b[49m\u001b[47m \u001b[30m\u001b[49m\u001b[47m \u001b[30m\u001b[49m\u001b[47m \u001b[30m\u001b[49m\u001b[47m \u001b[30m\u001b[49m\u001b[47m \u001b[30m\u001b[49m\u001b[47m \u001b[30m\u001b[49m\u001b[47m \u001b[30m\u001b[49m\u001b[47m \u001b[30m\u001b[49m\u001b[47m \u001b[30m\u001b[49m\u001b[47m \u001b[30m\u001b[49m\u001b[47m \u001b[30m\u001b[49m\u001b[47m \u001b[30m\u001b[49m\u001b[47m \u001b[30m\u001b[49m\u001b[47m \u001b[30m\u001b[49m\u001b[47m \u001b[30m\u001b[49m\u001b[47m \u001b[30m\u001b[49m\u001b[47m \u001b[30m\u001b[49m\u001b[47m \u001b[30m\u001b[49m\u001b[47m \u001b[30m\u001b[49m\u001b[47m \u001b[30m\u001b[49m\u001b[47m \u001b[30m\u001b[49m\u001b[47m \u001b[30m\u001b[49m\u001b[47m \u001b[30m\u001b[49m\u001b[47m \u001b[30m\u001b[49m\u001b[47m \u001b[30m\u001b[49m\u001b[47m \u001b[30m\u001b[49m\u001b[47m \u001b[30m\u001b[49m\u001b[47m \u001b[30m\u001b[49m\u001b[47m \u001b[30m\u001b[49m\u001b[47m \u001b[30m\u001b[49m\u001b[47m \u001b[30m\u001b[49m\u001b[47m \u001b[30m\u001b[49m\u001b[47m \u001b[30m\u001b[49m\u001b[47m \u001b[30m\u001b[49m\u001b[47m \u001b[30m\u001b[49m\u001b[47m \u001b[30m\u001b[49m\u001b[47m \u001b[30m\u001b[49m\u001b[47m \u001b[30m\u001b[49m\u001b[47m \u001b[30m\u001b[49m\u001b[47m \u001b[30m\u001b[49m\u001b[47m \u001b[30m\u001b[49m\u001b[47m \u001b[30m\u001b[49m\u001b[47m \u001b[30m\u001b[49m\u001b[47m \u001b[30m\u001b[49m\u001b[47m \u001b[30m\u001b[49m\u001b[47m \u001b[30m\u001b[49m\u001b[47m \u001b[30m\u001b[49m\u001b[47m \u001b[30m\u001b[49m\u001b[47m \u001b[30m\u001b[49m\u001b[47m \u001b[30m\u001b[49m\u001b[47m \u001b[30m\u001b[49m\u001b[47m \u001b[30m\u001b[49m\u001b[47m \u001b[30m\u001b[49m\u001b[47m \u001b[30m\u001b[49m\u001b[47m \u001b[30m\u001b[49m\u001b[47m \u001b[30m\u001b[49m\u001b[47m \u001b[30m\u001b[49m\u001b[47m \u001b[30m\u001b[49m\u001b[47m \u001b[30m\u001b[49m\u001b[47m \u001b[30m\u001b[49m\u001b[47m \u001b[30m\u001b[49m\u001b[47m \u001b[30m\u001b[49m\u001b[47m \u001b[30m\u001b[49m\u001b[47m \u001b[30m\u001b[49m\u001b[47m \u001b[30m\u001b[49m\u001b[47m \u001b[30m\u001b[49m\u001b[47m \u001b[30m\u001b[49m\u001b[47m \u001b[30m\u001b[49m\u001b[47m \u001b[30m\u001b[49m\u001b[47m \u001b[30m\u001b[49m\u001b[47m \u001b[30m\u001b[49m\u001b[47m \u001b[30m\u001b[49m\u001b[47m \u001b[30m\u001b[49m\u001b[47m \u001b[30m\u001b[49m\u001b[47m \u001b[30m\u001b[49m\u001b[47m \u001b[30m\u001b[49m\u001b[47m \u001b[30m\u001b[49m\u001b[47m \u001b[30m\u001b[49m\u001b[47m \u001b[30m\u001b[49m\u001b[47m \u001b[30m\u001b[49m\u001b[47m \u001b[30m\u001b[49m\u001b[47m \u001b[30m\u001b[49m\u001b[47m \u001b[30m\u001b[49m\u001b[47m \u001b[30m\u001b[49m\u001b[47m \u001b[30m\u001b[49m\u001b[47m \u001b[30m\u001b[49m\u001b[47m \u001b[30m\u001b[49m\n",
            "Subread 14\t \u001b[47m \u001b[30m\u001b[49m\u001b[47m \u001b[30m\u001b[49m\u001b[47m \u001b[30m\u001b[49m\u001b[47m \u001b[30m\u001b[49m\u001b[47m \u001b[30m\u001b[49m\u001b[47m \u001b[30m\u001b[49m\u001b[47m \u001b[30m\u001b[49m\u001b[47m \u001b[30m\u001b[49m\u001b[47m \u001b[30m\u001b[49m\u001b[47m \u001b[30m\u001b[49m\u001b[47m \u001b[30m\u001b[49m\u001b[47m \u001b[30m\u001b[49m\u001b[47m \u001b[30m\u001b[49m\u001b[47m \u001b[30m\u001b[49m\u001b[47m \u001b[30m\u001b[49m\u001b[47m \u001b[30m\u001b[49m\u001b[47m \u001b[30m\u001b[49m\u001b[47m \u001b[30m\u001b[49m\u001b[47m \u001b[30m\u001b[49m\u001b[47m \u001b[30m\u001b[49m\u001b[47m \u001b[30m\u001b[49m\u001b[47m \u001b[30m\u001b[49m\u001b[47m \u001b[30m\u001b[49m\u001b[47m \u001b[30m\u001b[49m\u001b[47m \u001b[30m\u001b[49m\u001b[47m \u001b[30m\u001b[49m\u001b[47m \u001b[30m\u001b[49m\u001b[47m \u001b[30m\u001b[49m\u001b[47m \u001b[30m\u001b[49m\u001b[47m \u001b[30m\u001b[49m\u001b[47m \u001b[30m\u001b[49m\u001b[47m \u001b[30m\u001b[49m\u001b[47m \u001b[30m\u001b[49m\u001b[47m \u001b[30m\u001b[49m\u001b[47m \u001b[30m\u001b[49m\u001b[47m \u001b[30m\u001b[49m\u001b[47m \u001b[30m\u001b[49m\u001b[47m \u001b[30m\u001b[49m\u001b[47m \u001b[30m\u001b[49m\u001b[47m \u001b[30m\u001b[49m\u001b[47m \u001b[30m\u001b[49m\u001b[47m \u001b[30m\u001b[49m\u001b[47m \u001b[30m\u001b[49m\u001b[47m \u001b[30m\u001b[49m\u001b[47m \u001b[30m\u001b[49m\u001b[47m \u001b[30m\u001b[49m\u001b[47m \u001b[30m\u001b[49m\u001b[47m \u001b[30m\u001b[49m\u001b[47m \u001b[30m\u001b[49m\u001b[47m \u001b[30m\u001b[49m\u001b[47m \u001b[30m\u001b[49m\u001b[47m \u001b[30m\u001b[49m\u001b[47m \u001b[30m\u001b[49m\u001b[47m \u001b[30m\u001b[49m\u001b[47m \u001b[30m\u001b[49m\u001b[47m \u001b[30m\u001b[49m\u001b[47m \u001b[30m\u001b[49m\u001b[47m \u001b[30m\u001b[49m\u001b[47m \u001b[30m\u001b[49m\u001b[47m \u001b[30m\u001b[49m\u001b[47m \u001b[30m\u001b[49m\u001b[47m \u001b[30m\u001b[49m\u001b[47m \u001b[30m\u001b[49m\u001b[47m \u001b[30m\u001b[49m\u001b[47m \u001b[30m\u001b[49m\u001b[47m \u001b[30m\u001b[49m\u001b[47m \u001b[30m\u001b[49m\u001b[47m \u001b[30m\u001b[49m\u001b[47m \u001b[30m\u001b[49m\u001b[47m \u001b[30m\u001b[49m\u001b[47m \u001b[30m\u001b[49m\u001b[47m \u001b[30m\u001b[49m\u001b[47m \u001b[30m\u001b[49m\u001b[47m \u001b[30m\u001b[49m\u001b[47m \u001b[30m\u001b[49m\u001b[47m \u001b[30m\u001b[49m\u001b[47m \u001b[30m\u001b[49m\u001b[47m \u001b[30m\u001b[49m\u001b[47m \u001b[30m\u001b[49m\u001b[47m \u001b[30m\u001b[49m\u001b[47m \u001b[30m\u001b[49m\u001b[47m \u001b[30m\u001b[49m\u001b[47m \u001b[30m\u001b[49m\u001b[47m \u001b[30m\u001b[49m\u001b[47m \u001b[30m\u001b[49m\u001b[47m \u001b[30m\u001b[49m\u001b[47m \u001b[30m\u001b[49m\u001b[47m \u001b[30m\u001b[49m\u001b[47m \u001b[30m\u001b[49m\u001b[47m \u001b[30m\u001b[49m\u001b[47m \u001b[30m\u001b[49m\u001b[47m \u001b[30m\u001b[49m\u001b[47m \u001b[30m\u001b[49m\u001b[47m \u001b[30m\u001b[49m\u001b[47m \u001b[30m\u001b[49m\u001b[47m \u001b[30m\u001b[49m\u001b[47m \u001b[30m\u001b[49m\u001b[47m \u001b[30m\u001b[49m\u001b[47m \u001b[30m\u001b[49m\u001b[47m \u001b[30m\u001b[49m\n",
            "Subread 15\t \u001b[47m \u001b[30m\u001b[49m\u001b[47m \u001b[30m\u001b[49m\u001b[47m \u001b[30m\u001b[49m\u001b[47m \u001b[30m\u001b[49m\u001b[47m \u001b[30m\u001b[49m\u001b[47m \u001b[30m\u001b[49m\u001b[47m \u001b[30m\u001b[49m\u001b[47m \u001b[30m\u001b[49m\u001b[47m \u001b[30m\u001b[49m\u001b[47m \u001b[30m\u001b[49m\u001b[47m \u001b[30m\u001b[49m\u001b[47m \u001b[30m\u001b[49m\u001b[47m \u001b[30m\u001b[49m\u001b[47m \u001b[30m\u001b[49m\u001b[47m \u001b[30m\u001b[49m\u001b[47m \u001b[30m\u001b[49m\u001b[47m \u001b[30m\u001b[49m\u001b[47m \u001b[30m\u001b[49m\u001b[47m \u001b[30m\u001b[49m\u001b[47m \u001b[30m\u001b[49m\u001b[47m \u001b[30m\u001b[49m\u001b[47m \u001b[30m\u001b[49m\u001b[47m \u001b[30m\u001b[49m\u001b[47m \u001b[30m\u001b[49m\u001b[47m \u001b[30m\u001b[49m\u001b[47m \u001b[30m\u001b[49m\u001b[47m \u001b[30m\u001b[49m\u001b[47m \u001b[30m\u001b[49m\u001b[47m \u001b[30m\u001b[49m\u001b[47m \u001b[30m\u001b[49m\u001b[47m \u001b[30m\u001b[49m\u001b[47m \u001b[30m\u001b[49m\u001b[47m \u001b[30m\u001b[49m\u001b[47m \u001b[30m\u001b[49m\u001b[47m \u001b[30m\u001b[49m\u001b[47m \u001b[30m\u001b[49m\u001b[47m \u001b[30m\u001b[49m\u001b[47m \u001b[30m\u001b[49m\u001b[47m \u001b[30m\u001b[49m\u001b[47m \u001b[30m\u001b[49m\u001b[47m \u001b[30m\u001b[49m\u001b[47m \u001b[30m\u001b[49m\u001b[47m \u001b[30m\u001b[49m\u001b[47m \u001b[30m\u001b[49m\u001b[47m \u001b[30m\u001b[49m\u001b[47m \u001b[30m\u001b[49m\u001b[47m \u001b[30m\u001b[49m\u001b[47m \u001b[30m\u001b[49m\u001b[47m \u001b[30m\u001b[49m\u001b[47m \u001b[30m\u001b[49m\u001b[47m \u001b[30m\u001b[49m\u001b[47m \u001b[30m\u001b[49m\u001b[47m \u001b[30m\u001b[49m\u001b[47m \u001b[30m\u001b[49m\u001b[47m \u001b[30m\u001b[49m\u001b[47m \u001b[30m\u001b[49m\u001b[47m \u001b[30m\u001b[49m\u001b[47m \u001b[30m\u001b[49m\u001b[47m \u001b[30m\u001b[49m\u001b[47m \u001b[30m\u001b[49m\u001b[47m \u001b[30m\u001b[49m\u001b[47m \u001b[30m\u001b[49m\u001b[47m \u001b[30m\u001b[49m\u001b[47m \u001b[30m\u001b[49m\u001b[47m \u001b[30m\u001b[49m\u001b[47m \u001b[30m\u001b[49m\u001b[47m \u001b[30m\u001b[49m\u001b[47m \u001b[30m\u001b[49m\u001b[47m \u001b[30m\u001b[49m\u001b[47m \u001b[30m\u001b[49m\u001b[47m \u001b[30m\u001b[49m\u001b[47m \u001b[30m\u001b[49m\u001b[47m \u001b[30m\u001b[49m\u001b[47m \u001b[30m\u001b[49m\u001b[47m \u001b[30m\u001b[49m\u001b[47m \u001b[30m\u001b[49m\u001b[47m \u001b[30m\u001b[49m\u001b[47m \u001b[30m\u001b[49m\u001b[47m \u001b[30m\u001b[49m\u001b[47m \u001b[30m\u001b[49m\u001b[47m \u001b[30m\u001b[49m\u001b[47m \u001b[30m\u001b[49m\u001b[47m \u001b[30m\u001b[49m\u001b[47m \u001b[30m\u001b[49m\u001b[47m \u001b[30m\u001b[49m\u001b[47m \u001b[30m\u001b[49m\u001b[47m \u001b[30m\u001b[49m\u001b[47m \u001b[30m\u001b[49m\u001b[47m \u001b[30m\u001b[49m\u001b[47m \u001b[30m\u001b[49m\u001b[47m \u001b[30m\u001b[49m\u001b[47m \u001b[30m\u001b[49m\u001b[47m \u001b[30m\u001b[49m\u001b[47m \u001b[30m\u001b[49m\u001b[47m \u001b[30m\u001b[49m\u001b[47m \u001b[30m\u001b[49m\u001b[47m \u001b[30m\u001b[49m\u001b[47m \u001b[30m\u001b[49m\u001b[47m \u001b[30m\u001b[49m\u001b[47m \u001b[30m\u001b[49m\n",
            "Subread 16\t \u001b[47m \u001b[30m\u001b[49m\u001b[47m \u001b[30m\u001b[49m\u001b[47m \u001b[30m\u001b[49m\u001b[47m \u001b[30m\u001b[49m\u001b[47m \u001b[30m\u001b[49m\u001b[47m \u001b[30m\u001b[49m\u001b[47m \u001b[30m\u001b[49m\u001b[47m \u001b[30m\u001b[49m\u001b[47m \u001b[30m\u001b[49m\u001b[47m \u001b[30m\u001b[49m\u001b[47m \u001b[30m\u001b[49m\u001b[47m \u001b[30m\u001b[49m\u001b[47m \u001b[30m\u001b[49m\u001b[47m \u001b[30m\u001b[49m\u001b[47m \u001b[30m\u001b[49m\u001b[47m \u001b[30m\u001b[49m\u001b[47m \u001b[30m\u001b[49m\u001b[47m \u001b[30m\u001b[49m\u001b[47m \u001b[30m\u001b[49m\u001b[47m \u001b[30m\u001b[49m\u001b[47m \u001b[30m\u001b[49m\u001b[47m \u001b[30m\u001b[49m\u001b[47m \u001b[30m\u001b[49m\u001b[47m \u001b[30m\u001b[49m\u001b[47m \u001b[30m\u001b[49m\u001b[47m \u001b[30m\u001b[49m\u001b[47m \u001b[30m\u001b[49m\u001b[47m \u001b[30m\u001b[49m\u001b[47m \u001b[30m\u001b[49m\u001b[47m \u001b[30m\u001b[49m\u001b[47m \u001b[30m\u001b[49m\u001b[47m \u001b[30m\u001b[49m\u001b[47m \u001b[30m\u001b[49m\u001b[47m \u001b[30m\u001b[49m\u001b[47m \u001b[30m\u001b[49m\u001b[47m \u001b[30m\u001b[49m\u001b[47m \u001b[30m\u001b[49m\u001b[47m \u001b[30m\u001b[49m\u001b[47m \u001b[30m\u001b[49m\u001b[47m \u001b[30m\u001b[49m\u001b[47m \u001b[30m\u001b[49m\u001b[47m \u001b[30m\u001b[49m\u001b[47m \u001b[30m\u001b[49m\u001b[47m \u001b[30m\u001b[49m\u001b[47m \u001b[30m\u001b[49m\u001b[47m \u001b[30m\u001b[49m\u001b[47m \u001b[30m\u001b[49m\u001b[47m \u001b[30m\u001b[49m\u001b[47m \u001b[30m\u001b[49m\u001b[47m \u001b[30m\u001b[49m\u001b[47m \u001b[30m\u001b[49m\u001b[47m \u001b[30m\u001b[49m\u001b[47m \u001b[30m\u001b[49m\u001b[47m \u001b[30m\u001b[49m\u001b[47m \u001b[30m\u001b[49m\u001b[47m \u001b[30m\u001b[49m\u001b[47m \u001b[30m\u001b[49m\u001b[47m \u001b[30m\u001b[49m\u001b[47m \u001b[30m\u001b[49m\u001b[47m \u001b[30m\u001b[49m\u001b[47m \u001b[30m\u001b[49m\u001b[47m \u001b[30m\u001b[49m\u001b[47m \u001b[30m\u001b[49m\u001b[47m \u001b[30m\u001b[49m\u001b[47m \u001b[30m\u001b[49m\u001b[47m \u001b[30m\u001b[49m\u001b[47m \u001b[30m\u001b[49m\u001b[47m \u001b[30m\u001b[49m\u001b[47m \u001b[30m\u001b[49m\u001b[47m \u001b[30m\u001b[49m\u001b[47m \u001b[30m\u001b[49m\u001b[47m \u001b[30m\u001b[49m\u001b[47m \u001b[30m\u001b[49m\u001b[47m \u001b[30m\u001b[49m\u001b[47m \u001b[30m\u001b[49m\u001b[47m \u001b[30m\u001b[49m\u001b[47m \u001b[30m\u001b[49m\u001b[47m \u001b[30m\u001b[49m\u001b[47m \u001b[30m\u001b[49m\u001b[47m \u001b[30m\u001b[49m\u001b[47m \u001b[30m\u001b[49m\u001b[47m \u001b[30m\u001b[49m\u001b[47m \u001b[30m\u001b[49m\u001b[47m \u001b[30m\u001b[49m\u001b[47m \u001b[30m\u001b[49m\u001b[47m \u001b[30m\u001b[49m\u001b[47m \u001b[30m\u001b[49m\u001b[47m \u001b[30m\u001b[49m\u001b[47m \u001b[30m\u001b[49m\u001b[47m \u001b[30m\u001b[49m\u001b[47m \u001b[30m\u001b[49m\u001b[47m \u001b[30m\u001b[49m\u001b[47m \u001b[30m\u001b[49m\u001b[47m \u001b[30m\u001b[49m\u001b[47m \u001b[30m\u001b[49m\u001b[47m \u001b[30m\u001b[49m\u001b[47m \u001b[30m\u001b[49m\u001b[47m \u001b[30m\u001b[49m\u001b[47m \u001b[30m\u001b[49m\u001b[47m \u001b[30m\u001b[49m\n",
            "Subread 17\t \u001b[47m \u001b[30m\u001b[49m\u001b[47m \u001b[30m\u001b[49m\u001b[47m \u001b[30m\u001b[49m\u001b[47m \u001b[30m\u001b[49m\u001b[47m \u001b[30m\u001b[49m\u001b[47m \u001b[30m\u001b[49m\u001b[47m \u001b[30m\u001b[49m\u001b[47m \u001b[30m\u001b[49m\u001b[47m \u001b[30m\u001b[49m\u001b[47m \u001b[30m\u001b[49m\u001b[47m \u001b[30m\u001b[49m\u001b[47m \u001b[30m\u001b[49m\u001b[47m \u001b[30m\u001b[49m\u001b[47m \u001b[30m\u001b[49m\u001b[47m \u001b[30m\u001b[49m\u001b[47m \u001b[30m\u001b[49m\u001b[47m \u001b[30m\u001b[49m\u001b[47m \u001b[30m\u001b[49m\u001b[47m \u001b[30m\u001b[49m\u001b[47m \u001b[30m\u001b[49m\u001b[47m \u001b[30m\u001b[49m\u001b[47m \u001b[30m\u001b[49m\u001b[47m \u001b[30m\u001b[49m\u001b[47m \u001b[30m\u001b[49m\u001b[47m \u001b[30m\u001b[49m\u001b[47m \u001b[30m\u001b[49m\u001b[47m \u001b[30m\u001b[49m\u001b[47m \u001b[30m\u001b[49m\u001b[47m \u001b[30m\u001b[49m\u001b[47m \u001b[30m\u001b[49m\u001b[47m \u001b[30m\u001b[49m\u001b[47m \u001b[30m\u001b[49m\u001b[47m \u001b[30m\u001b[49m\u001b[47m \u001b[30m\u001b[49m\u001b[47m \u001b[30m\u001b[49m\u001b[47m \u001b[30m\u001b[49m\u001b[47m \u001b[30m\u001b[49m\u001b[47m \u001b[30m\u001b[49m\u001b[47m \u001b[30m\u001b[49m\u001b[47m \u001b[30m\u001b[49m\u001b[47m \u001b[30m\u001b[49m\u001b[47m \u001b[30m\u001b[49m\u001b[47m \u001b[30m\u001b[49m\u001b[47m \u001b[30m\u001b[49m\u001b[47m \u001b[30m\u001b[49m\u001b[47m \u001b[30m\u001b[49m\u001b[47m \u001b[30m\u001b[49m\u001b[47m \u001b[30m\u001b[49m\u001b[47m \u001b[30m\u001b[49m\u001b[47m \u001b[30m\u001b[49m\u001b[47m \u001b[30m\u001b[49m\u001b[47m \u001b[30m\u001b[49m\u001b[47m \u001b[30m\u001b[49m\u001b[47m \u001b[30m\u001b[49m\u001b[47m \u001b[30m\u001b[49m\u001b[47m \u001b[30m\u001b[49m\u001b[47m \u001b[30m\u001b[49m\u001b[47m \u001b[30m\u001b[49m\u001b[47m \u001b[30m\u001b[49m\u001b[47m \u001b[30m\u001b[49m\u001b[47m \u001b[30m\u001b[49m\u001b[47m \u001b[30m\u001b[49m\u001b[47m \u001b[30m\u001b[49m\u001b[47m \u001b[30m\u001b[49m\u001b[47m \u001b[30m\u001b[49m\u001b[47m \u001b[30m\u001b[49m\u001b[47m \u001b[30m\u001b[49m\u001b[47m \u001b[30m\u001b[49m\u001b[47m \u001b[30m\u001b[49m\u001b[47m \u001b[30m\u001b[49m\u001b[47m \u001b[30m\u001b[49m\u001b[47m \u001b[30m\u001b[49m\u001b[47m \u001b[30m\u001b[49m\u001b[47m \u001b[30m\u001b[49m\u001b[47m \u001b[30m\u001b[49m\u001b[47m \u001b[30m\u001b[49m\u001b[47m \u001b[30m\u001b[49m\u001b[47m \u001b[30m\u001b[49m\u001b[47m \u001b[30m\u001b[49m\u001b[47m \u001b[30m\u001b[49m\u001b[47m \u001b[30m\u001b[49m\u001b[47m \u001b[30m\u001b[49m\u001b[47m \u001b[30m\u001b[49m\u001b[47m \u001b[30m\u001b[49m\u001b[47m \u001b[30m\u001b[49m\u001b[47m \u001b[30m\u001b[49m\u001b[47m \u001b[30m\u001b[49m\u001b[47m \u001b[30m\u001b[49m\u001b[47m \u001b[30m\u001b[49m\u001b[47m \u001b[30m\u001b[49m\u001b[47m \u001b[30m\u001b[49m\u001b[47m \u001b[30m\u001b[49m\u001b[47m \u001b[30m\u001b[49m\u001b[47m \u001b[30m\u001b[49m\u001b[47m \u001b[30m\u001b[49m\u001b[47m \u001b[30m\u001b[49m\u001b[47m \u001b[30m\u001b[49m\u001b[47m \u001b[30m\u001b[49m\u001b[47m \u001b[30m\u001b[49m\u001b[47m \u001b[30m\u001b[49m\n",
            "Subread 18\t \u001b[47m \u001b[30m\u001b[49m\u001b[47m \u001b[30m\u001b[49m\u001b[47m \u001b[30m\u001b[49m\u001b[47m \u001b[30m\u001b[49m\u001b[47m \u001b[30m\u001b[49m\u001b[47m \u001b[30m\u001b[49m\u001b[47m \u001b[30m\u001b[49m\u001b[47m \u001b[30m\u001b[49m\u001b[47m \u001b[30m\u001b[49m\u001b[47m \u001b[30m\u001b[49m\u001b[47m \u001b[30m\u001b[49m\u001b[47m \u001b[30m\u001b[49m\u001b[47m \u001b[30m\u001b[49m\u001b[47m \u001b[30m\u001b[49m\u001b[47m \u001b[30m\u001b[49m\u001b[47m \u001b[30m\u001b[49m\u001b[47m \u001b[30m\u001b[49m\u001b[47m \u001b[30m\u001b[49m\u001b[47m \u001b[30m\u001b[49m\u001b[47m \u001b[30m\u001b[49m\u001b[47m \u001b[30m\u001b[49m\u001b[47m \u001b[30m\u001b[49m\u001b[47m \u001b[30m\u001b[49m\u001b[47m \u001b[30m\u001b[49m\u001b[47m \u001b[30m\u001b[49m\u001b[47m \u001b[30m\u001b[49m\u001b[47m \u001b[30m\u001b[49m\u001b[47m \u001b[30m\u001b[49m\u001b[47m \u001b[30m\u001b[49m\u001b[47m \u001b[30m\u001b[49m\u001b[47m \u001b[30m\u001b[49m\u001b[47m \u001b[30m\u001b[49m\u001b[47m \u001b[30m\u001b[49m\u001b[47m \u001b[30m\u001b[49m\u001b[47m \u001b[30m\u001b[49m\u001b[47m \u001b[30m\u001b[49m\u001b[47m \u001b[30m\u001b[49m\u001b[47m \u001b[30m\u001b[49m\u001b[47m \u001b[30m\u001b[49m\u001b[47m \u001b[30m\u001b[49m\u001b[47m \u001b[30m\u001b[49m\u001b[47m \u001b[30m\u001b[49m\u001b[47m \u001b[30m\u001b[49m\u001b[47m \u001b[30m\u001b[49m\u001b[47m \u001b[30m\u001b[49m\u001b[47m \u001b[30m\u001b[49m\u001b[47m \u001b[30m\u001b[49m\u001b[47m \u001b[30m\u001b[49m\u001b[47m \u001b[30m\u001b[49m\u001b[47m \u001b[30m\u001b[49m\u001b[47m \u001b[30m\u001b[49m\u001b[47m \u001b[30m\u001b[49m\u001b[47m \u001b[30m\u001b[49m\u001b[47m \u001b[30m\u001b[49m\u001b[47m \u001b[30m\u001b[49m\u001b[47m \u001b[30m\u001b[49m\u001b[47m \u001b[30m\u001b[49m\u001b[47m \u001b[30m\u001b[49m\u001b[47m \u001b[30m\u001b[49m\u001b[47m \u001b[30m\u001b[49m\u001b[47m \u001b[30m\u001b[49m\u001b[47m \u001b[30m\u001b[49m\u001b[47m \u001b[30m\u001b[49m\u001b[47m \u001b[30m\u001b[49m\u001b[47m \u001b[30m\u001b[49m\u001b[47m \u001b[30m\u001b[49m\u001b[47m \u001b[30m\u001b[49m\u001b[47m \u001b[30m\u001b[49m\u001b[47m \u001b[30m\u001b[49m\u001b[47m \u001b[30m\u001b[49m\u001b[47m \u001b[30m\u001b[49m\u001b[47m \u001b[30m\u001b[49m\u001b[47m \u001b[30m\u001b[49m\u001b[47m \u001b[30m\u001b[49m\u001b[47m \u001b[30m\u001b[49m\u001b[47m \u001b[30m\u001b[49m\u001b[47m \u001b[30m\u001b[49m\u001b[47m \u001b[30m\u001b[49m\u001b[47m \u001b[30m\u001b[49m\u001b[47m \u001b[30m\u001b[49m\u001b[47m \u001b[30m\u001b[49m\u001b[47m \u001b[30m\u001b[49m\u001b[47m \u001b[30m\u001b[49m\u001b[47m \u001b[30m\u001b[49m\u001b[47m \u001b[30m\u001b[49m\u001b[47m \u001b[30m\u001b[49m\u001b[47m \u001b[30m\u001b[49m\u001b[47m \u001b[30m\u001b[49m\u001b[47m \u001b[30m\u001b[49m\u001b[47m \u001b[30m\u001b[49m\u001b[47m \u001b[30m\u001b[49m\u001b[47m \u001b[30m\u001b[49m\u001b[47m \u001b[30m\u001b[49m\u001b[47m \u001b[30m\u001b[49m\u001b[47m \u001b[30m\u001b[49m\u001b[47m \u001b[30m\u001b[49m\u001b[47m \u001b[30m\u001b[49m\u001b[47m \u001b[30m\u001b[49m\u001b[47m \u001b[30m\u001b[49m\u001b[47m \u001b[30m\u001b[49m\n",
            "Subread 19\t \u001b[47m \u001b[30m\u001b[49m\u001b[47m \u001b[30m\u001b[49m\u001b[47m \u001b[30m\u001b[49m\u001b[47m \u001b[30m\u001b[49m\u001b[47m \u001b[30m\u001b[49m\u001b[47m \u001b[30m\u001b[49m\u001b[47m \u001b[30m\u001b[49m\u001b[47m \u001b[30m\u001b[49m\u001b[47m \u001b[30m\u001b[49m\u001b[47m \u001b[30m\u001b[49m\u001b[47m \u001b[30m\u001b[49m\u001b[47m \u001b[30m\u001b[49m\u001b[47m \u001b[30m\u001b[49m\u001b[47m \u001b[30m\u001b[49m\u001b[47m \u001b[30m\u001b[49m\u001b[47m \u001b[30m\u001b[49m\u001b[47m \u001b[30m\u001b[49m\u001b[47m \u001b[30m\u001b[49m\u001b[47m \u001b[30m\u001b[49m\u001b[47m \u001b[30m\u001b[49m\u001b[47m \u001b[30m\u001b[49m\u001b[47m \u001b[30m\u001b[49m\u001b[47m \u001b[30m\u001b[49m\u001b[47m \u001b[30m\u001b[49m\u001b[47m \u001b[30m\u001b[49m\u001b[47m \u001b[30m\u001b[49m\u001b[47m \u001b[30m\u001b[49m\u001b[47m \u001b[30m\u001b[49m\u001b[47m \u001b[30m\u001b[49m\u001b[47m \u001b[30m\u001b[49m\u001b[47m \u001b[30m\u001b[49m\u001b[47m \u001b[30m\u001b[49m\u001b[47m \u001b[30m\u001b[49m\u001b[47m \u001b[30m\u001b[49m\u001b[47m \u001b[30m\u001b[49m\u001b[47m \u001b[30m\u001b[49m\u001b[47m \u001b[30m\u001b[49m\u001b[47m \u001b[30m\u001b[49m\u001b[47m \u001b[30m\u001b[49m\u001b[47m \u001b[30m\u001b[49m\u001b[47m \u001b[30m\u001b[49m\u001b[47m \u001b[30m\u001b[49m\u001b[47m \u001b[30m\u001b[49m\u001b[47m \u001b[30m\u001b[49m\u001b[47m \u001b[30m\u001b[49m\u001b[47m \u001b[30m\u001b[49m\u001b[47m \u001b[30m\u001b[49m\u001b[47m \u001b[30m\u001b[49m\u001b[47m \u001b[30m\u001b[49m\u001b[47m \u001b[30m\u001b[49m\u001b[47m \u001b[30m\u001b[49m\u001b[47m \u001b[30m\u001b[49m\u001b[47m \u001b[30m\u001b[49m\u001b[47m \u001b[30m\u001b[49m\u001b[47m \u001b[30m\u001b[49m\u001b[47m \u001b[30m\u001b[49m\u001b[47m \u001b[30m\u001b[49m\u001b[47m \u001b[30m\u001b[49m\u001b[47m \u001b[30m\u001b[49m\u001b[47m \u001b[30m\u001b[49m\u001b[47m \u001b[30m\u001b[49m\u001b[47m \u001b[30m\u001b[49m\u001b[47m \u001b[30m\u001b[49m\u001b[47m \u001b[30m\u001b[49m\u001b[47m \u001b[30m\u001b[49m\u001b[47m \u001b[30m\u001b[49m\u001b[47m \u001b[30m\u001b[49m\u001b[47m \u001b[30m\u001b[49m\u001b[47m \u001b[30m\u001b[49m\u001b[47m \u001b[30m\u001b[49m\u001b[47m \u001b[30m\u001b[49m\u001b[47m \u001b[30m\u001b[49m\u001b[47m \u001b[30m\u001b[49m\u001b[47m \u001b[30m\u001b[49m\u001b[47m \u001b[30m\u001b[49m\u001b[47m \u001b[30m\u001b[49m\u001b[47m \u001b[30m\u001b[49m\u001b[47m \u001b[30m\u001b[49m\u001b[47m \u001b[30m\u001b[49m\u001b[47m \u001b[30m\u001b[49m\u001b[47m \u001b[30m\u001b[49m\u001b[47m \u001b[30m\u001b[49m\u001b[47m \u001b[30m\u001b[49m\u001b[47m \u001b[30m\u001b[49m\u001b[47m \u001b[30m\u001b[49m\u001b[47m \u001b[30m\u001b[49m\u001b[47m \u001b[30m\u001b[49m\u001b[47m \u001b[30m\u001b[49m\u001b[47m \u001b[30m\u001b[49m\u001b[47m \u001b[30m\u001b[49m\u001b[47m \u001b[30m\u001b[49m\u001b[47m \u001b[30m\u001b[49m\u001b[47m \u001b[30m\u001b[49m\u001b[47m \u001b[30m\u001b[49m\u001b[47m \u001b[30m\u001b[49m\u001b[47m \u001b[30m\u001b[49m\u001b[47m \u001b[30m\u001b[49m\u001b[47m \u001b[30m\u001b[49m\u001b[47m \u001b[30m\u001b[49m\u001b[47m \u001b[30m\u001b[49m\n",
            "Subread 20\t \u001b[47m \u001b[30m\u001b[49m\u001b[47m \u001b[30m\u001b[49m\u001b[47m \u001b[30m\u001b[49m\u001b[47m \u001b[30m\u001b[49m\u001b[47m \u001b[30m\u001b[49m\u001b[47m \u001b[30m\u001b[49m\u001b[47m \u001b[30m\u001b[49m\u001b[47m \u001b[30m\u001b[49m\u001b[47m \u001b[30m\u001b[49m\u001b[47m \u001b[30m\u001b[49m\u001b[47m \u001b[30m\u001b[49m\u001b[47m \u001b[30m\u001b[49m\u001b[47m \u001b[30m\u001b[49m\u001b[47m \u001b[30m\u001b[49m\u001b[47m \u001b[30m\u001b[49m\u001b[47m \u001b[30m\u001b[49m\u001b[47m \u001b[30m\u001b[49m\u001b[47m \u001b[30m\u001b[49m\u001b[47m \u001b[30m\u001b[49m\u001b[47m \u001b[30m\u001b[49m\u001b[47m \u001b[30m\u001b[49m\u001b[47m \u001b[30m\u001b[49m\u001b[47m \u001b[30m\u001b[49m\u001b[47m \u001b[30m\u001b[49m\u001b[47m \u001b[30m\u001b[49m\u001b[47m \u001b[30m\u001b[49m\u001b[47m \u001b[30m\u001b[49m\u001b[47m \u001b[30m\u001b[49m\u001b[47m \u001b[30m\u001b[49m\u001b[47m \u001b[30m\u001b[49m\u001b[47m \u001b[30m\u001b[49m\u001b[47m \u001b[30m\u001b[49m\u001b[47m \u001b[30m\u001b[49m\u001b[47m \u001b[30m\u001b[49m\u001b[47m \u001b[30m\u001b[49m\u001b[47m \u001b[30m\u001b[49m\u001b[47m \u001b[30m\u001b[49m\u001b[47m \u001b[30m\u001b[49m\u001b[47m \u001b[30m\u001b[49m\u001b[47m \u001b[30m\u001b[49m\u001b[47m \u001b[30m\u001b[49m\u001b[47m \u001b[30m\u001b[49m\u001b[47m \u001b[30m\u001b[49m\u001b[47m \u001b[30m\u001b[49m\u001b[47m \u001b[30m\u001b[49m\u001b[47m \u001b[30m\u001b[49m\u001b[47m \u001b[30m\u001b[49m\u001b[47m \u001b[30m\u001b[49m\u001b[47m \u001b[30m\u001b[49m\u001b[47m \u001b[30m\u001b[49m\u001b[47m \u001b[30m\u001b[49m\u001b[47m \u001b[30m\u001b[49m\u001b[47m \u001b[30m\u001b[49m\u001b[47m \u001b[30m\u001b[49m\u001b[47m \u001b[30m\u001b[49m\u001b[47m \u001b[30m\u001b[49m\u001b[47m \u001b[30m\u001b[49m\u001b[47m \u001b[30m\u001b[49m\u001b[47m \u001b[30m\u001b[49m\u001b[47m \u001b[30m\u001b[49m\u001b[47m \u001b[30m\u001b[49m\u001b[47m \u001b[30m\u001b[49m\u001b[47m \u001b[30m\u001b[49m\u001b[47m \u001b[30m\u001b[49m\u001b[47m \u001b[30m\u001b[49m\u001b[47m \u001b[30m\u001b[49m\u001b[47m \u001b[30m\u001b[49m\u001b[47m \u001b[30m\u001b[49m\u001b[47m \u001b[30m\u001b[49m\u001b[47m \u001b[30m\u001b[49m\u001b[47m \u001b[30m\u001b[49m\u001b[47m \u001b[30m\u001b[49m\u001b[47m \u001b[30m\u001b[49m\u001b[47m \u001b[30m\u001b[49m\u001b[47m \u001b[30m\u001b[49m\u001b[47m \u001b[30m\u001b[49m\u001b[47m \u001b[30m\u001b[49m\u001b[47m \u001b[30m\u001b[49m\u001b[47m \u001b[30m\u001b[49m\u001b[47m \u001b[30m\u001b[49m\u001b[47m \u001b[30m\u001b[49m\u001b[47m \u001b[30m\u001b[49m\u001b[47m \u001b[30m\u001b[49m\u001b[47m \u001b[30m\u001b[49m\u001b[47m \u001b[30m\u001b[49m\u001b[47m \u001b[30m\u001b[49m\u001b[47m \u001b[30m\u001b[49m\u001b[47m \u001b[30m\u001b[49m\u001b[47m \u001b[30m\u001b[49m\u001b[47m \u001b[30m\u001b[49m\u001b[47m \u001b[30m\u001b[49m\u001b[47m \u001b[30m\u001b[49m\u001b[47m \u001b[30m\u001b[49m\u001b[47m \u001b[30m\u001b[49m\u001b[47m \u001b[30m\u001b[49m\u001b[47m \u001b[30m\u001b[49m\u001b[47m \u001b[30m\u001b[49m\u001b[47m \u001b[30m\u001b[49m\u001b[47m \u001b[30m\u001b[49m\u001b[47m \u001b[30m\u001b[49m\n",
            "ccs:\t\t \u001b[31mT\u001b[30m\u001b[49m\u001b[33mG\u001b[30m\u001b[49m\u001b[33mG\u001b[30m\u001b[49m\u001b[32mA\u001b[30m\u001b[49m\u001b[33mG\u001b[30m\u001b[49m\u001b[31mT\u001b[30m\u001b[49m\u001b[34mC\u001b[30m\u001b[49m\u001b[31mT\u001b[30m\u001b[49m\u001b[34mC\u001b[30m\u001b[49m\u001b[32mA\u001b[30m\u001b[49m\u001b[34mC\u001b[30m\u001b[49m\u001b[32mA\u001b[30m\u001b[49m\u001b[34mC\u001b[30m\u001b[49m\u001b[31mT\u001b[30m\u001b[49m\u001b[33mG\u001b[30m\u001b[49m\u001b[31mT\u001b[30m\u001b[49m\u001b[47m \u001b[30m\u001b[49m\u001b[47m \u001b[30m\u001b[49m\u001b[34mC\u001b[30m\u001b[49m\u001b[33mG\u001b[30m\u001b[49m\u001b[34mC\u001b[30m\u001b[49m\u001b[34mC\u001b[30m\u001b[49m\u001b[32mA\u001b[30m\u001b[49m\u001b[33mG\u001b[30m\u001b[49m\u001b[33mG\u001b[30m\u001b[49m\u001b[34mC\u001b[30m\u001b[49m\u001b[31mT\u001b[30m\u001b[49m\u001b[33mG\u001b[30m\u001b[49m\u001b[33mG\u001b[30m\u001b[49m\u001b[32mA\u001b[30m\u001b[49m\u001b[33mG\u001b[30m\u001b[49m\u001b[31mT\u001b[30m\u001b[49m\u001b[47m \u001b[30m\u001b[49m\u001b[33mG\u001b[30m\u001b[49m\u001b[34mC\u001b[30m\u001b[49m\u001b[47m \u001b[30m\u001b[49m\u001b[32mA\u001b[30m\u001b[49m\u001b[33mG\u001b[30m\u001b[49m\u001b[47m \u001b[30m\u001b[49m\u001b[31mT\u001b[30m\u001b[49m\u001b[47m \u001b[30m\u001b[49m\u001b[33mG\u001b[30m\u001b[49m\u001b[33mG\u001b[30m\u001b[49m\u001b[34mC\u001b[30m\u001b[49m\u001b[33mG\u001b[30m\u001b[49m\u001b[34mC\u001b[30m\u001b[49m\u001b[47m \u001b[30m\u001b[49m\u001b[33mG\u001b[30m\u001b[49m\u001b[32mA\u001b[30m\u001b[49m\u001b[33mG\u001b[30m\u001b[49m\u001b[47m \u001b[30m\u001b[49m\u001b[34mC\u001b[30m\u001b[49m\u001b[31mT\u001b[30m\u001b[49m\u001b[34mC\u001b[30m\u001b[49m\u001b[32mA\u001b[30m\u001b[49m\u001b[33mG\u001b[30m\u001b[49m\u001b[34mC\u001b[30m\u001b[49m\u001b[47m \u001b[30m\u001b[49m\u001b[31mT\u001b[30m\u001b[49m\u001b[34mC\u001b[30m\u001b[49m\u001b[32mA\u001b[30m\u001b[49m\u001b[34mC\u001b[30m\u001b[49m\u001b[31mT\u001b[30m\u001b[49m\u001b[33mG\u001b[30m\u001b[49m\u001b[34mC\u001b[30m\u001b[49m\u001b[47m \u001b[30m\u001b[49m\u001b[47m \u001b[30m\u001b[49m\u001b[32mA\u001b[30m\u001b[49m\u001b[32mA\u001b[30m\u001b[49m\u001b[47m \u001b[30m\u001b[49m\u001b[47m \u001b[30m\u001b[49m\u001b[47m \u001b[30m\u001b[49m\u001b[47m \u001b[30m\u001b[49m\u001b[47m \u001b[30m\u001b[49m\u001b[34mC\u001b[30m\u001b[49m\u001b[34mC\u001b[30m\u001b[49m\u001b[31mT\u001b[30m\u001b[49m\u001b[34mC\u001b[30m\u001b[49m\u001b[34mC\u001b[30m\u001b[49m\u001b[33mG\u001b[30m\u001b[49m\u001b[34mC\u001b[30m\u001b[49m\u001b[47m \u001b[30m\u001b[49m\u001b[34mC\u001b[30m\u001b[49m\u001b[34mC\u001b[30m\u001b[49m\u001b[31mT\u001b[30m\u001b[49m\u001b[47m \u001b[30m\u001b[49m\u001b[34mC\u001b[30m\u001b[49m\u001b[34mC\u001b[30m\u001b[49m\u001b[33mG\u001b[30m\u001b[49m\u001b[32mA\u001b[30m\u001b[49m\u001b[33mG\u001b[30m\u001b[49m\u001b[31mT\u001b[30m\u001b[49m\u001b[31mT\u001b[30m\u001b[49m\u001b[34mC\u001b[30m\u001b[49m\u001b[47m \u001b[30m\u001b[49m\u001b[47m \u001b[30m\u001b[49m\u001b[32mA\u001b[30m\u001b[49m\u001b[32mA\u001b[30m\u001b[49m\u001b[33mG\u001b[30m\u001b[49m\u001b[34mC\u001b[30m\u001b[49m\n",
            "prediction:\t \u001b[31mT\u001b[30m\u001b[49m\u001b[33mG\u001b[30m\u001b[49m\u001b[33mG\u001b[30m\u001b[49m\u001b[32mA\u001b[30m\u001b[49m\u001b[33mG\u001b[30m\u001b[49m\u001b[31mT\u001b[30m\u001b[49m\u001b[34mC\u001b[30m\u001b[49m\u001b[31mT\u001b[30m\u001b[49m\u001b[34mC\u001b[30m\u001b[49m\u001b[32mA\u001b[30m\u001b[49m\u001b[34mC\u001b[30m\u001b[49m\u001b[32mA\u001b[30m\u001b[49m\u001b[34mC\u001b[30m\u001b[49m\u001b[31mT\u001b[30m\u001b[49m\u001b[33mG\u001b[30m\u001b[49m\u001b[31mT\u001b[30m\u001b[49m\u001b[47m \u001b[30m\u001b[49m\u001b[47m \u001b[30m\u001b[49m\u001b[34mC\u001b[30m\u001b[49m\u001b[33mG\u001b[30m\u001b[49m\u001b[34mC\u001b[30m\u001b[49m\u001b[34mC\u001b[30m\u001b[49m\u001b[32mA\u001b[30m\u001b[49m\u001b[33mG\u001b[30m\u001b[49m\u001b[33mG\u001b[30m\u001b[49m\u001b[34mC\u001b[30m\u001b[49m\u001b[31mT\u001b[30m\u001b[49m\u001b[33mG\u001b[30m\u001b[49m\u001b[33mG\u001b[30m\u001b[49m\u001b[32mA\u001b[30m\u001b[49m\u001b[33mG\u001b[30m\u001b[49m\u001b[31mT\u001b[30m\u001b[49m\u001b[47m \u001b[30m\u001b[49m\u001b[33mG\u001b[30m\u001b[49m\u001b[34mC\u001b[30m\u001b[49m\u001b[47m \u001b[30m\u001b[49m\u001b[32mA\u001b[30m\u001b[49m\u001b[33mG\u001b[30m\u001b[49m\u001b[47m \u001b[30m\u001b[49m\u001b[31mT\u001b[30m\u001b[49m\u001b[47m \u001b[30m\u001b[49m\u001b[33mG\u001b[30m\u001b[49m\u001b[33mG\u001b[30m\u001b[49m\u001b[34mC\u001b[30m\u001b[49m\u001b[33mG\u001b[30m\u001b[49m\u001b[34mC\u001b[30m\u001b[49m\u001b[47m \u001b[30m\u001b[49m\u001b[33mG\u001b[30m\u001b[49m\u001b[32mA\u001b[30m\u001b[49m\u001b[33mG\u001b[30m\u001b[49m\u001b[47m \u001b[30m\u001b[49m\u001b[34mC\u001b[30m\u001b[49m\u001b[31mT\u001b[30m\u001b[49m\u001b[34mC\u001b[30m\u001b[49m\u001b[32mA\u001b[30m\u001b[49m\u001b[33mG\u001b[30m\u001b[49m\u001b[34mC\u001b[30m\u001b[49m\u001b[47m \u001b[30m\u001b[49m\u001b[31mT\u001b[30m\u001b[49m\u001b[34mC\u001b[30m\u001b[49m\u001b[32mA\u001b[30m\u001b[49m\u001b[34mC\u001b[30m\u001b[49m\u001b[31mT\u001b[30m\u001b[49m\u001b[33mG\u001b[30m\u001b[49m\u001b[34mC\u001b[30m\u001b[49m\u001b[47m \u001b[30m\u001b[49m\u001b[47m \u001b[30m\u001b[49m\u001b[32mA\u001b[30m\u001b[49m\u001b[32mA\u001b[30m\u001b[49m\u001b[47m \u001b[30m\u001b[49m\u001b[47m \u001b[30m\u001b[49m\u001b[47m \u001b[30m\u001b[49m\u001b[47m \u001b[30m\u001b[49m\u001b[47m \u001b[30m\u001b[49m\u001b[34mC\u001b[30m\u001b[49m\u001b[34mC\u001b[30m\u001b[49m\u001b[31mT\u001b[30m\u001b[49m\u001b[34mC\u001b[30m\u001b[49m\u001b[34mC\u001b[30m\u001b[49m\u001b[33mG\u001b[30m\u001b[49m\u001b[34mC\u001b[30m\u001b[49m\u001b[47m \u001b[30m\u001b[49m\u001b[34mC\u001b[30m\u001b[49m\u001b[34mC\u001b[30m\u001b[49m\u001b[31mT\u001b[30m\u001b[49m\u001b[47m \u001b[30m\u001b[49m\u001b[34mC\u001b[30m\u001b[49m\u001b[34mC\u001b[30m\u001b[49m\u001b[33mG\u001b[30m\u001b[49m\u001b[32mA\u001b[30m\u001b[49m\u001b[33mG\u001b[30m\u001b[49m\u001b[31mT\u001b[30m\u001b[49m\u001b[31mT\u001b[30m\u001b[49m\u001b[34mC\u001b[30m\u001b[49m\u001b[47m \u001b[30m\u001b[49m\u001b[47m \u001b[30m\u001b[49m\u001b[32mA\u001b[30m\u001b[49m\u001b[32mA\u001b[30m\u001b[49m\u001b[33mG\u001b[30m\u001b[49m\u001b[34mC\u001b[30m\u001b[49m\n",
            "label:\t\t \u001b[31mT\u001b[30m\u001b[49m\u001b[33mG\u001b[30m\u001b[49m\u001b[33mG\u001b[30m\u001b[49m\u001b[32mA\u001b[30m\u001b[49m\u001b[33mG\u001b[30m\u001b[49m\u001b[31mT\u001b[30m\u001b[49m\u001b[34mC\u001b[30m\u001b[49m\u001b[31mT\u001b[30m\u001b[49m\u001b[34mC\u001b[30m\u001b[49m\u001b[32mA\u001b[30m\u001b[49m\u001b[34mC\u001b[30m\u001b[49m\u001b[32mA\u001b[30m\u001b[49m\u001b[34mC\u001b[30m\u001b[49m\u001b[31mT\u001b[30m\u001b[49m\u001b[33mG\u001b[30m\u001b[49m\u001b[31mT\u001b[30m\u001b[49m\u001b[47m \u001b[30m\u001b[49m\u001b[47m \u001b[30m\u001b[49m\u001b[34mC\u001b[30m\u001b[49m\u001b[33mG\u001b[30m\u001b[49m\u001b[34mC\u001b[30m\u001b[49m\u001b[34mC\u001b[30m\u001b[49m\u001b[32mA\u001b[30m\u001b[49m\u001b[33mG\u001b[30m\u001b[49m\u001b[33mG\u001b[30m\u001b[49m\u001b[34mC\u001b[30m\u001b[49m\u001b[31mT\u001b[30m\u001b[49m\u001b[33mG\u001b[30m\u001b[49m\u001b[33mG\u001b[30m\u001b[49m\u001b[32mA\u001b[30m\u001b[49m\u001b[33mG\u001b[30m\u001b[49m\u001b[31mT\u001b[30m\u001b[49m\u001b[47m \u001b[30m\u001b[49m\u001b[33mG\u001b[30m\u001b[49m\u001b[34mC\u001b[30m\u001b[49m\u001b[47m \u001b[30m\u001b[49m\u001b[32mA\u001b[30m\u001b[49m\u001b[33mG\u001b[30m\u001b[49m\u001b[47m \u001b[30m\u001b[49m\u001b[31mT\u001b[30m\u001b[49m\u001b[47m \u001b[30m\u001b[49m\u001b[33mG\u001b[30m\u001b[49m\u001b[33mG\u001b[30m\u001b[49m\u001b[34mC\u001b[30m\u001b[49m\u001b[33mG\u001b[30m\u001b[49m\u001b[34mC\u001b[30m\u001b[49m\u001b[47m \u001b[30m\u001b[49m\u001b[33mG\u001b[30m\u001b[49m\u001b[32mA\u001b[30m\u001b[49m\u001b[33mG\u001b[30m\u001b[49m\u001b[47m \u001b[30m\u001b[49m\u001b[34mC\u001b[30m\u001b[49m\u001b[31mT\u001b[30m\u001b[49m\u001b[34mC\u001b[30m\u001b[49m\u001b[32mA\u001b[30m\u001b[49m\u001b[33mG\u001b[30m\u001b[49m\u001b[34mC\u001b[30m\u001b[49m\u001b[47m \u001b[30m\u001b[49m\u001b[31mT\u001b[30m\u001b[49m\u001b[34mC\u001b[30m\u001b[49m\u001b[32mA\u001b[30m\u001b[49m\u001b[34mC\u001b[30m\u001b[49m\u001b[31mT\u001b[30m\u001b[49m\u001b[33mG\u001b[30m\u001b[49m\u001b[34mC\u001b[30m\u001b[49m\u001b[47m \u001b[30m\u001b[49m\u001b[47m \u001b[30m\u001b[49m\u001b[32mA\u001b[30m\u001b[49m\u001b[32mA\u001b[30m\u001b[49m\u001b[47m \u001b[30m\u001b[49m\u001b[47m \u001b[30m\u001b[49m\u001b[47m \u001b[30m\u001b[49m\u001b[47m \u001b[30m\u001b[49m\u001b[47m \u001b[30m\u001b[49m\u001b[34mC\u001b[30m\u001b[49m\u001b[34mC\u001b[30m\u001b[49m\u001b[31mT\u001b[30m\u001b[49m\u001b[34mC\u001b[30m\u001b[49m\u001b[34mC\u001b[30m\u001b[49m\u001b[33mG\u001b[30m\u001b[49m\u001b[34mC\u001b[30m\u001b[49m\u001b[47m \u001b[30m\u001b[49m\u001b[34mC\u001b[30m\u001b[49m\u001b[34mC\u001b[30m\u001b[49m\u001b[31mT\u001b[30m\u001b[49m\u001b[47m \u001b[30m\u001b[49m\u001b[34mC\u001b[30m\u001b[49m\u001b[34mC\u001b[30m\u001b[49m\u001b[33mG\u001b[30m\u001b[49m\u001b[32mA\u001b[30m\u001b[49m\u001b[33mG\u001b[30m\u001b[49m\u001b[31mT\u001b[30m\u001b[49m\u001b[31mT\u001b[30m\u001b[49m\u001b[34mC\u001b[30m\u001b[49m\u001b[47m \u001b[30m\u001b[49m\u001b[47m \u001b[30m\u001b[49m\u001b[32mA\u001b[30m\u001b[49m\u001b[32mA\u001b[30m\u001b[49m\u001b[33mG\u001b[30m\u001b[49m\u001b[34mC\u001b[30m\u001b[49m\n",
            "\n",
            "\n"
          ]
        }
      ],
      "source": [
        "show_example(batch, example_i, ypreds=y_preds)"
      ]
    }
  ],
  "metadata": {
    "colab": {
      "provenance": [],
      "toc_visible": true
    },
    "kernelspec": {
      "display_name": "Python 3",
      "name": "python3"
    },
    "language_info": {
      "name": "python"
    }
  },
  "nbformat": 4,
  "nbformat_minor": 0
}
